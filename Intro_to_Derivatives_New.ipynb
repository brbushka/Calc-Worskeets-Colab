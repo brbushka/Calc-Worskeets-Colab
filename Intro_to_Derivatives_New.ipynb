{
  "cells": [
    {
      "cell_type": "markdown",
      "metadata": {
        "id": "view-in-github",
        "colab_type": "text"
      },
      "source": [
        "<a href=\"https://colab.research.google.com/github/brbushka/Calc-Worskeets-Colab/blob/main/Intro_to_Derivatives_New.ipynb\" target=\"_parent\"><img src=\"https://colab.research.google.com/assets/colab-badge.svg\" alt=\"Open In Colab\"/></a>"
      ]
    },
    {
      "cell_type": "markdown",
      "id": "b4e37ad3",
      "metadata": {
        "id": "b4e37ad3"
      },
      "source": [
        "#   <span style='color:navy'> THE DERIVATIVE </span>\n",
        "\n",
        "<br>\n",
        "As we will see, the recurring theme in calculus involves addressing challenging problems by decomposing them into smaller problems and utilizing our existing knowledge to solve these simpler parts.\n",
        "\n",
        "### <span style='color:navy'> Goal: understand the limit definition of the derivative. </span>\n",
        "\n",
        "The **derivative** is a mathematical tool that gives us the rate at which one quantitiy changes relative to another at a given instant. The derivative gives us:\n",
        "- the instantaneous rate of change of $f$ at a given point.\n",
        "- the slope of the tangent line to the graph of $f$ at a given point (the slopes of the tangent lines as they change along f are the values of a new function, called the derivative function)."
      ]
    },
    {
      "cell_type": "markdown",
      "id": "32041ce3",
      "metadata": {
        "id": "32041ce3"
      },
      "source": [
        "---"
      ]
    },
    {
      "cell_type": "markdown",
      "id": "08ffa999",
      "metadata": {
        "id": "08ffa999"
      },
      "source": [
        "Recall:\n",
        "\n",
        "<br>1. The slope of a line is given by\n",
        "$$m=\\dfrac{y_2-y_1}{x_2-x_1},$$ where $(x_1,y_1)$, and $(x_2,y_2)$ are two distinct points on the line.\n",
        "\n",
        "<br>\n",
        "2. We say that the slope is a measure of the *steepness* of the line and we interpret it as the rate of change of $y$ with respect to $x$ (how does $y$ change, when we change $x$).\n",
        "\n",
        "<br>\n",
        "3. The average rate of change of a function on an interval is given by the slope of the <b>secant line</b>, passing through the endpoints of that interval. So, the average rate of change of $f$ on the interval $[a,b]$ is given by:\n",
        "$$m_{sec} = \\dfrac{f(b)-f(a)}{b-a}$$"
      ]
    },
    {
      "cell_type": "markdown",
      "id": "89995249",
      "metadata": {
        "id": "89995249"
      },
      "source": [
        "---"
      ]
    },
    {
      "cell_type": "markdown",
      "id": "4b803f5a",
      "metadata": {
        "id": "4b803f5a"
      },
      "source": [
        "Our task now is to use this previous knowledge to determine the derivative of a function $f$, at (say) a point $P:(a,f(a))$. The figure below shows a graph of a functon, its tangent line at the point $P$, and a secant line passing through the points $P$ and $Q$. The figure is interactive so we can investigate what happens as we move the value of $x$ closer and closer to $a$."
      ]
    },
    {
      "cell_type": "markdown",
      "id": "2b57d0ca",
      "metadata": {
        "id": "2b57d0ca"
      },
      "source": [
        "---"
      ]
    },
    {
      "cell_type": "code",
      "execution_count": 8,
      "id": "6719091d",
      "metadata": {
        "id": "6719091d"
      },
      "outputs": [],
      "source": [
        "#Import the necessary libraries\n",
        "import numpy as np\n",
        "import matplotlib.pyplot as plt\n",
        "from ipywidgets import interact, interact_manual, FloatSlider\n",
        "import sympy as sp"
      ]
    },
    {
      "cell_type": "code",
      "execution_count": 9,
      "id": "52cbcc4c",
      "metadata": {
        "colab": {
          "base_uri": "https://localhost:8080/",
          "height": 526,
          "referenced_widgets": [
            "3092883cb405441caebe9a77ad3a1dfd",
            "9be9b87634f842d5b92a41de554efbee",
            "09b1884e548c4b26958f9a37c0f9a311",
            "314a9b3e88154eacb5cecc1f4e327768",
            "b59221c9550247dba82b25b19b61284d",
            "e9a5d8928d8c45a7931c9fa2d6e2cf12",
            "c3b6378697ab4c699fe7d50e6afd1bcb",
            "ad4bae5f1704400dbec8331af3cf8559",
            "c244d136b2a84215b6580792a7e78fe5",
            "743ca970ff3e4e7c8ab005187effca47"
          ]
        },
        "id": "52cbcc4c",
        "outputId": "671e7358-40f5-43ae-a0ea-233e2b518fbe"
      },
      "outputs": [
        {
          "output_type": "display_data",
          "data": {
            "text/plain": [
              "interactive(children=(FloatSlider(value=5.0, description='Q', max=8.0, min=0.5), Button(description='Run Inter…"
            ],
            "application/vnd.jupyter.widget-view+json": {
              "version_major": 2,
              "version_minor": 0,
              "model_id": "3092883cb405441caebe9a77ad3a1dfd"
            }
          },
          "metadata": {}
        },
        {
          "output_type": "execute_result",
          "data": {
            "text/plain": [
              "<function __main__.secant_plot(Q)>"
            ]
          },
          "metadata": {},
          "execution_count": 9
        }
      ],
      "source": [
        "# Define the function\n",
        "def f(x):\n",
        "    return 10*np.log(5*x+1/2)\n",
        "\n",
        "# Define the range of x values\n",
        "x = np.linspace(0.001, 9.5, 1000)\n",
        "\n",
        "# Define the fixed point P\n",
        "P = 1\n",
        "y_P = f(P)\n",
        "\n",
        "# Define the movable point Q using a slider\n",
        "Q_slider = FloatSlider(value=5, min=0.5, max=8, step=0.1, description='Q')\n",
        "\n",
        "\n",
        "# Define a function to update the plot of the secant line based on the position of Q\n",
        "def secant_plot(Q):\n",
        "    y_Q = f(Q)\n",
        "\n",
        "    plt.figure(figsize=(8, 5))\n",
        "    plt.plot(x, f(x), label='Function', color='navy')\n",
        "\n",
        "# The slope of the secant line through the points P:(P,Y_P) and Q:(Q,Y_Q)\n",
        "    m_sec = (y_P - y_Q)/(P-Q)\n",
        "# The y-intercept of the secant line through the points P:(P,Y_P) and Q:(Q,Y_Q)\n",
        "    b_sec = (Q * y_P - y_Q * P) / (Q - P)\n",
        "    plt.plot([0.1, 9.5], [m_sec * 0.1 + b_sec, m_sec * 9.5 + b_sec], color='darkgreen', linestyle='-', label='Secant Line')\n",
        "    plt.plot([P, Q], [y_P, y_Q], 'o')\n",
        "\n",
        "# Define the symbolic variable and the function symbollically\n",
        "    x_sym=sp.symbols('x')\n",
        "    f_sym= 10*sp.log(5*x_sym+1/2)\n",
        "\n",
        "\n",
        "#---------------------------------------------------------------------------------------------------------\n",
        "\n",
        "# Find the derivative symbollically\n",
        "    f_prime_sym=sp.diff(f_sym,x_sym)\n",
        "# Converts the symbolic expression into a Python function (to evaluate it at a large number of points)\n",
        "    f_prime=sp.lambdify(x_sym,f_prime_sym)\n",
        "\n",
        "#Define the range od x values around P\n",
        "    #x=np.linspace(0.1,10,100)\n",
        "\n",
        "#Calculate the slope of the tangent line at P\n",
        "    m_tan=f_prime(P)\n",
        "    tangent_line=m_tan*(x-P)+y_P\n",
        "\n",
        "# Plot the tangent line\n",
        "    plt.plot(x,tangent_line,'r-', label='Tangent Line at P')\n",
        "\n",
        "#----------------------------------------------------------------------------------------------------------\n",
        "#Plotting the horizontal and vertical segments\n",
        "    y_horizontal = y_P  # Y-coordinate of the horizontal line\n",
        "\n",
        "    # Define the value of a\n",
        "    #a = 5\n",
        "    # Find the corresponding y-coordinate at x = a\n",
        "    #y_seg_end = np.interp(P, x, f(P))\n",
        "    #plt.plot([0, a], [y_a, y_a], color='r', linestyle='--', label='Line Segment')\n",
        "\n",
        "    plt.plot([0, 1], [y_P, y_P], color='gray', linestyle='--', alpha=0.5)\n",
        "    plt.plot([P, Q], [y_P, y_P], color='gray', linestyle='-', alpha=0.5)\n",
        "    plt.plot([0, Q], [y_Q, y_Q], color='gray', linestyle='--', alpha=0.5)\n",
        "\n",
        "\n",
        "    plt.plot([Q, Q], [y_P, y_Q], color='gray', linestyle='-', alpha=0.5)\n",
        "    plt.plot([P, P], [0, y_P], color='gray', linestyle='--', alpha=0.5)\n",
        "    plt.plot([Q, Q], [0, y_P], color='gray', linestyle='--', alpha=0.5)\n",
        "\n",
        "#Plotting the axis\n",
        "    plt.axvline(x=0, color='darkgray', linestyle='-')\n",
        "    plt.annotate('y', xy=(0, 99), xytext=(-0.5, 99), arrowprops=dict(arrowstyle='->'))\n",
        "    #plt.annotate('', xy=(0, 99), xytext=(0, 0), arrowprops=dict(arrowstyle='->'))\n",
        "    #plt.arrow(0, 0, 0, 100, width=.1, edgecolor='black',facecolor='black',linestyle='--',linewidth=0.1)\n",
        "\n",
        "    plt.axhline(y=0, color='darkgray', linestyle='-')\n",
        "    plt.annotate('', xy=(9.5, 0), xytext=(10, 0), arrowprops=dict(arrowstyle='<-'))\n",
        "\n",
        "    plt.annotate('P', xy=(P, y_P), xytext=(P - 0.1, y_P + 3))\n",
        "    plt.annotate('Q', xy=(Q, y_Q), xytext=(Q - 0.1, y_Q + 3))\n",
        "\n",
        "    plt.annotate('a', xy=(P, 0), xytext=(P - 0.1, -5))\n",
        "    plt.annotate('x', xy=(Q, 0), xytext=(Q - 0.1, -5))\n",
        "\n",
        "    plt.annotate('f(a)', xy=(0, f(P)), xytext=(- 0.5, f(P)))\n",
        "    plt.annotate('f(x)', xy=(0, f(Q)), xytext=(- 0.5, f(Q)))\n",
        "\n",
        "    plt.annotate('x-a', xy=((P + Q)/2, y_P), xytext=((P + Q)/2, y_P - 5))\n",
        "    plt.annotate('f(x)-f(a)', xy=(Q, (y_P + y_Q)/2), xytext=(Q+0.1, (y_P + y_Q)/2))\n",
        "\n",
        "    # Add a label with a formula\n",
        "    #formula = r'$m_sec = \\dfrac{f(x)-f(a)}{x-a}$'\n",
        "    #plt.text(5, 0.8, formula, fontsize=14, color='g')\n",
        "#----------------------------------------------------------------------------------------------------------\n",
        "\n",
        "    plt.xlabel('x')\n",
        "    plt.ylabel('y')\n",
        "    plt.title('Interactive Figure 1')\n",
        "    plt.legend()\n",
        "    plt.grid(False)\n",
        "\n",
        "# Remove the box around the plot\n",
        "    plt.axis('off')\n",
        "    plt.show()\n",
        "\n",
        "# Interact with the slider to update the plot\n",
        "interact_manual(secant_plot, Q=Q_slider)\n"
      ]
    },
    {
      "cell_type": "markdown",
      "id": "d34c6e71",
      "metadata": {
        "id": "d34c6e71"
      },
      "source": [
        "As the points $P$ and $Q$ get closer and closer together, the secant line becomes more and more similar to the tangent line, and the slopes of the secant lines approach the slope of the tangent line. This means that as the two points get closer and closer together, the average rate of change of the function between the two points approaches the instantaneous rate of change of the function as P. We say that the slope of the tangent line represents the limiting value of the slopes of the secant lines as the interval between the two points approaches zero."
      ]
    },
    {
      "cell_type": "markdown",
      "id": "2e8949bf",
      "metadata": {
        "id": "2e8949bf"
      },
      "source": [
        "Therefore, the **slope of the tangent line** to $f$ at $P(a,f(a))$ or the **instantaneous rate of change** of $f$ at $P(a,f(a))$ is given by\n",
        "\n",
        "<br>\n",
        "$$m_{tan}=\\displaystyle{\\dfrac{f(x)-f(a)}{x-a}}.$$"
      ]
    },
    {
      "cell_type": "markdown",
      "id": "877b8aec",
      "metadata": {
        "id": "877b8aec"
      },
      "source": [
        "---\n",
        "\n",
        "We can relabel Figure 1 above as follows:"
      ]
    },
    {
      "cell_type": "code",
      "execution_count": 10,
      "id": "4294de00",
      "metadata": {
        "colab": {
          "base_uri": "https://localhost:8080/",
          "height": 526,
          "referenced_widgets": [
            "3a4b89b506184816a5bbc1df3c63bd3b",
            "750075bacd04495598495009e409d384",
            "878e9bf9d5d64aecb51af43df31bf4f1",
            "d3082fce582e421b9e1c1ecd506b95d5",
            "5683b3f8b2154628b80192be937d4898",
            "3b5d7e92b5bd4de8a0b96b9254758eab",
            "789550085e5a46a994f3419413926832",
            "11bce7ae1ec0484da4ff395c5ab97842",
            "a7652f5cb9154861b264ed6880ed10b0",
            "1af93fb4aece497a8509d24c93be4d25"
          ]
        },
        "id": "4294de00",
        "outputId": "eacea3df-eab4-459b-e868-f5d55a8ec11c"
      },
      "outputs": [
        {
          "output_type": "display_data",
          "data": {
            "text/plain": [
              "interactive(children=(FloatSlider(value=5.0, description='Δx', max=5.0, min=0.01), Button(description='Run Int…"
            ],
            "application/vnd.jupyter.widget-view+json": {
              "version_major": 2,
              "version_minor": 0,
              "model_id": "3a4b89b506184816a5bbc1df3c63bd3b"
            }
          },
          "metadata": {}
        },
        {
          "output_type": "execute_result",
          "data": {
            "text/plain": [
              "<function __main__.secant_plot(h)>"
            ]
          },
          "metadata": {},
          "execution_count": 10
        }
      ],
      "source": [
        "# Define the function\n",
        "def f(x):\n",
        "    return 10*np.log(5*x+1/2)\n",
        "\n",
        "# Define the range of x values\n",
        "x = np.linspace(0.001, 7, 1000)\n",
        "\n",
        "# Define the fixed point P\n",
        "P = 1\n",
        "y_P = f(P)\n",
        "\n",
        "# Define the Δx slider (Δx=h)\n",
        "h_slider = FloatSlider(value=5, min=0.01, max=5, step=0.1, description='Δx')\n",
        "# Define the movable point Q using a slider\n",
        "#Q_slider = FloatSlider(value=5, min=0.5, max=8, step=0.1, description='Q')\n",
        "\n",
        "\n",
        "# Define a function to update the plot of the secant line based on the position of Q\n",
        "def secant_plot(h):\n",
        "    Q = P + h\n",
        "    y_Q = f(Q)\n",
        "\n",
        "    plt.figure(figsize=(8, 5))\n",
        "    plt.plot(x, f(x), label='Function', color='navy')\n",
        "\n",
        "# The slope of the secant line through the points P:(P,Y_P) and Q:(Q,Y_Q)\n",
        "    m_sec = (y_P - y_Q)/(P-Q)\n",
        "# The y-intercept of the secant line through the points P:(P,Y_P) and Q:(Q,Y_Q)\n",
        "    b_sec = (Q * y_P - y_Q * P) / (Q - P)\n",
        "    #CHANGES HERE FROM 7 TO 9.5\n",
        "    plt.plot([0.1, 7], [m_sec * 0.1 + b_sec, m_sec * 7 + b_sec], color='darkgreen', linestyle='-', label='Secant Line')\n",
        "    plt.plot([P, Q], [y_P, y_Q], 'o')\n",
        "\n",
        "# Define the symbolic variable and the function symbollically\n",
        "    x_sym=sp.symbols('x')\n",
        "    f_sym= 10*sp.log(5*x_sym+1/2)\n",
        "\n",
        "\n",
        "#---------------------------------------------------------------------------------------------------------\n",
        "\n",
        "# Find the derivative symbollically\n",
        "    f_prime_sym=sp.diff(f_sym,x_sym)\n",
        "# Converts the symbolic expression into a Python function (to evaluate it at a large number of points)\n",
        "    f_prime=sp.lambdify(x_sym,f_prime_sym)\n",
        "\n",
        "#Define the range od x values around P\n",
        "    #x=np.linspace(0.1,10,100)\n",
        "\n",
        "#Calculate the slope of the tangent line at P\n",
        "    m_tan=f_prime(P)\n",
        "    tangent_line=m_tan*(x-P)+y_P\n",
        "\n",
        "# Plot the tangent line\n",
        "    plt.plot(x,tangent_line,'r-', label='Tangent Line at P')\n",
        "\n",
        "#----------------------------------------------------------------------------------------------------------\n",
        "#Plotting the horizontal and vertical segments\n",
        "    y_horizontal = y_P  # Y-coordinate of the horizontal line\n",
        "\n",
        "\n",
        "    plt.plot([0, 1], [y_P, y_P], color='gray', linestyle='--', alpha=0.5)\n",
        "    plt.plot([P, Q], [y_P, y_P], color='gray', linestyle='-', alpha=0.5)\n",
        "    plt.plot([0, Q], [y_Q, y_Q], color='gray', linestyle='--', alpha=0.5)\n",
        "\n",
        "\n",
        "    plt.plot([Q, Q], [y_P, y_Q], color='gray', linestyle='-', alpha=0.5)\n",
        "    plt.plot([P, P], [0, y_P], color='gray', linestyle='--', alpha=0.5)\n",
        "    plt.plot([Q, Q], [0, y_P], color='gray', linestyle='--', alpha=0.5)\n",
        "\n",
        "#Plotting the axis\n",
        "    plt.axvline(x=0, color='darkgray', linestyle='-')\n",
        "    #plt.annotate('y', xy=(0, 70), xytext=(-0.5, 70), arrowprops=dict(arrowstyle='->'))\n",
        "    #plt.annotate('', xy=(0, 99), xytext=(0, 0), arrowprops=dict(arrowstyle='->'))\n",
        "    #plt.arrow(0, 0, 0, 100, width=.1, edgecolor='black',facecolor='black',linestyle='--',linewidth=0.1)\n",
        "\n",
        "    plt.axhline(y=0, color='darkgray', linestyle='-')\n",
        "    #plt.annotate('x', xy=(7, 0), xytext=(8, 0), arrowprops=dict(arrowstyle='<-'))\n",
        "\n",
        "    plt.annotate('P', xy=(P, y_P), xytext=(P - 0.1, y_P + 3))\n",
        "    plt.annotate('Q', xy=(Q, y_Q), xytext=(Q - 0.1, y_Q + 3))\n",
        "\n",
        "    plt.annotate('a', xy=(P, 0), xytext=(P - 0.1, -5))\n",
        "    plt.annotate('a+Δx', xy=(Q, 0), xytext=(Q - 0.1, -5))\n",
        "\n",
        "    plt.annotate('f(a)', xy=(0, f(P)), xytext=(- 1, f(P)))\n",
        "    plt.annotate('f(a+Δx)', xy=(0, f(Q)), xytext=(- 1, f(Q)))\n",
        "\n",
        "    plt.annotate('Δx', xy=((P + Q)/2, y_P), xytext=((P + Q)/2, y_P - 5))\n",
        "    plt.annotate('f(a+Δx)-f(a)', xy=(Q, (y_P + y_Q)/2), xytext=(Q+0.1, (y_P + y_Q)/2))\n",
        "\n",
        "    # Add a label with a formula\n",
        "    #formula = r'$m_sec = \\dfrac{f(x)-f(a)}{x-a}$'\n",
        "    #plt.text(5, 0.8, formula, fontsize=14, color='g')\n",
        "#----------------------------------------------------------------------------------------------------------\n",
        "\n",
        "    plt.xlabel('x')\n",
        "    plt.ylabel('y')\n",
        "    plt.title('Interactive Figure 2')\n",
        "    plt.legend()\n",
        "    plt.grid(False)\n",
        "\n",
        "# Remove the box around the plot\n",
        "    plt.axis('off')\n",
        "    plt.show()\n",
        "\n",
        "# Interact with the slider to update the plot\n",
        "interact_manual(secant_plot, h=h_slider)"
      ]
    },
    {
      "cell_type": "markdown",
      "id": "1f3bcb3f",
      "metadata": {
        "id": "1f3bcb3f"
      },
      "source": [
        "In Figure 2, we let $(a,f(a))$ be the coordinates of the point $P$ and $(a+\\Delta x, f(a+\\Delta x))$ be the coordinates of the point $Q$. Then the **slope of the secant line** through $P$ and $Q$ (or the **average rate of change** of $f$ between $P$ and $Q$) is given by\n",
        "<br>\n",
        "\n",
        "$$m_{sec}=\\dfrac{f(a+\\Delta x)-f(a)}{a+\\Delta x - a}=\\dfrac{f(a+\\Delta x)-f(a)}{\\Delta x} $$\n",
        "\n",
        "<br>\n",
        "\n",
        "and the **slope of the tangent line** to $f$ at $P$ (or the **instantaneous rate of change** of $f$ between $P$) is\n",
        "<br>\n",
        "\n",
        "$$m_{tan}=\\displaystyle{\\lim_{\\Delta x\\rightarrow 0}{\\dfrac{f(a+\\Delta x)-f(a)}{\\Delta x }}} $$\n",
        "\n",
        "<br>"
      ]
    },
    {
      "cell_type": "markdown",
      "id": "60ee4ab6",
      "metadata": {
        "id": "60ee4ab6"
      },
      "source": [
        "---"
      ]
    },
    {
      "cell_type": "markdown",
      "id": "fd29c022",
      "metadata": {
        "id": "fd29c022"
      },
      "source": [
        "The above limit gives us the slope of $f$ at one fixed point $P$ on the curve. If we vary this point along the curve, the tangent line will also vary, and so does its slope. Because of this, the slope of the tangent line for $f$ is itself a function of $x$, which we call **the derivative** of $f$ and we label it as $f'(x)$."
      ]
    },
    {
      "cell_type": "markdown",
      "id": "26a59f0a",
      "metadata": {
        "id": "26a59f0a"
      },
      "source": [
        "---"
      ]
    },
    {
      "cell_type": "markdown",
      "id": "fb72355b",
      "metadata": {
        "id": "fb72355b"
      },
      "source": [
        "<font size=\"3\"><span style='color:brown'> <b>Definition.</b></span></font> The **derivative** of $f$ is\n",
        "<br>\n",
        "$$f'(x)=\\displaystyle{\\lim_{\\Delta x\\rightarrow 0}{\\dfrac{f(x+\\Delta x)-f(x)}{\\Delta x }}} $$\n",
        "<br>\n",
        "\n",
        "provided that the limit exists.\n"
      ]
    },
    {
      "cell_type": "markdown",
      "id": "1d5821bd",
      "metadata": {
        "id": "1d5821bd"
      },
      "source": [
        "---"
      ]
    },
    {
      "cell_type": "markdown",
      "id": "90b8f913",
      "metadata": {
        "id": "90b8f913"
      },
      "source": [
        "<font size=\"3\"><span style='color:green'> <b>Example.</b></span></font> Let's look at a specific example. Use the slider to change the position of the point $Q$ and observe how the value the $m_{sec}$ and $m_{tan}$ compare as the two points get closer together."
      ]
    },
    {
      "cell_type": "code",
      "execution_count": 11,
      "id": "b03c3240",
      "metadata": {
        "colab": {
          "base_uri": "https://localhost:8080/",
          "height": 605,
          "referenced_widgets": [
            "1842c33df9ed4cee8e6d891b59f9eb0c",
            "30e9fb7f69964b538a76f89e5b795776",
            "07f61347181c43f48af238a4cd1c04da",
            "dbca16c4f8ec4af1be2c2b0b028ee9c3",
            "7cd38734dbda4e3fa9eb7a7eac817212",
            "3a322e69ab5e409887578b9cc901a433",
            "ce64196b5dd94d1a8a884507e7c6c25c",
            "66a46ef0440f462db3c9d1c5c2ae14ff",
            "0037aa392d374e0da4fe3b143d1791ea",
            "6e3f419fa56048b497449255249c0fc6"
          ]
        },
        "id": "b03c3240",
        "outputId": "e8c97d66-a546-4dc4-a393-4dd7a33fbd36"
      },
      "outputs": [
        {
          "output_type": "display_data",
          "data": {
            "text/plain": [
              "interactive(children=(FloatSlider(value=3.0, description='Q', max=3.0, min=0.001), Button(description='Run Int…"
            ],
            "application/vnd.jupyter.widget-view+json": {
              "version_major": 2,
              "version_minor": 0,
              "model_id": "1842c33df9ed4cee8e6d891b59f9eb0c"
            }
          },
          "metadata": {}
        },
        {
          "output_type": "execute_result",
          "data": {
            "text/plain": [
              "<function __main__.secant_plot(Q)>"
            ]
          },
          "metadata": {},
          "execution_count": 11
        }
      ],
      "source": [
        "#Import the necessary libraries\n",
        "#import numpy as np\n",
        "#import matplotlib.pyplot as plt\n",
        "#from ipywidgets import interact, interact_manual, FloatSlider\n",
        "#import sympy as sp\n",
        "\n",
        "# Define the function\n",
        "def g(x):\n",
        "    return x**3+5\n",
        "\n",
        "# Define the range of x values\n",
        "#x = np.linspace(P - 2, P + 2, 100)\n",
        "x = np.linspace(-1, 4.5, 1000)\n",
        "\n",
        "# Define the fixed point P\n",
        "P = 1.5\n",
        "y_P = g(P)\n",
        "\n",
        "# Define the movable point Q using a slider\n",
        "Q_slider = FloatSlider(value=4, min=0.001, max=3, step=0.1, description='Q')\n",
        "\n",
        "\n",
        "# Define a function to update the plot of the secant line based on the position of Q\n",
        "def secant_plot(Q):\n",
        "    y_Q = g(Q)\n",
        "\n",
        "    plt.figure(figsize=(8, 5))\n",
        "    plt.plot(x, g(x), label='Function', color='navy')\n",
        "\n",
        "# The slope of the secant line through the points P:(P,Y_P) and Q:(Q,Y_Q)\n",
        "    m_sec = (y_P - y_Q)/(P-Q)\n",
        "# The y-intercept of the secant line through the points P:(P,Y_P) and Q:(Q,Y_Q)\n",
        "    b_sec = (Q * y_P - y_Q * P) / (Q - P)\n",
        "    plt.plot([0.01, 4.5], [m_sec * 0.01 + b_sec, m_sec * 4.5 + b_sec], color='darkgreen', linestyle='-', label='Secant Line')\n",
        "    plt.plot([P, Q], [y_P, y_Q], 'o')\n",
        "    print('m_sec=',m_sec)\n",
        "# Define the symbolic variable and the function symbollically\n",
        "    x_sym=sp.symbols('x')\n",
        "    g_sym= x_sym**3+5\n",
        "\n",
        "\n",
        "#---------------------------------------------------------------------------------------------------------\n",
        "\n",
        "# Find the derivative symbollically\n",
        "    g_prime_sym=sp.diff(g_sym,x_sym)\n",
        "# Converts the symbolic expression into a Python function (to evaluate it at a large number of points)\n",
        "    g_prime=sp.lambdify(x_sym,g_prime_sym)\n",
        "\n",
        "#Define the range od x values around P\n",
        "    #x=np.linspace(0.1,10,100)\n",
        "\n",
        "#Calculate the slope of the tangent line at P\n",
        "    m_tan=g_prime(P)\n",
        "    print('m_tan=',m_tan)\n",
        "    tangent_line=m_tan*(x-P)+y_P\n",
        "\n",
        "# Plot the tangent line\n",
        "    plt.plot(x,tangent_line,'r-', label='Tangent Line at P')\n",
        "\n",
        "#----------------------------------------------------------------------------------------------------------\n",
        "#Plotting the horizontal and vertical segments\n",
        "    y_horizontal = y_P  # Y-coordinate of the horizontal line\n",
        "\n",
        "    plt.plot([0, P], [y_P, y_P], color='gray', linestyle='--', alpha=0.5)\n",
        "    plt.plot([P, Q], [y_P, y_P], color='gray', linestyle='-', alpha=0.5)\n",
        "    plt.plot([0, Q], [y_Q, y_Q], color='gray', linestyle='--', alpha=0.5)\n",
        "\n",
        "\n",
        "    plt.plot([Q, Q], [y_P, y_Q], color='gray', linestyle='-', alpha=0.5)\n",
        "    plt.plot([P, P], [0, y_P], color='gray', linestyle='--', alpha=0.5)\n",
        "    plt.plot([Q, Q], [0, y_P], color='gray', linestyle='--', alpha=0.5)\n",
        "\n",
        "#Plotting the axis\n",
        "    plt.axvline(x=0, color='darkgray', linestyle='-')\n",
        "    #plt.annotate('', xy=(0, 99), xytext=(-0.5, 99), arrowprops=dict(arrowstyle='->'))\n",
        "    #plt.arrow(0, 0, 0, 100, width=.1, edgecolor='black',facecolor='black',linestyle='--',linewidth=0.1)\n",
        "\n",
        "    plt.axhline(y=0, color='darkgray', linestyle='-')\n",
        "    #plt.annotate('', xy=(4.5, 0), xytext=(4.5, 0), arrowprops=dict(arrowstyle='<-'))\n",
        "\n",
        "    plt.annotate('P', xy=(P, y_P), xytext=(P-0.05 , y_P + 3))\n",
        "    plt.annotate('Q', xy=(Q, y_Q), xytext=(Q - 0.05, y_Q + 3))\n",
        "\n",
        "    plt.annotate('a', xy=(P, 0), xytext=(P - 0.05, -5))\n",
        "    plt.annotate('x', xy=(Q, 0), xytext=(Q - 0.05, -5))\n",
        "\n",
        "    plt.annotate('g(a)', xy=(0, g(P)), xytext=(- 0.3, g(P)))\n",
        "    plt.annotate('g(x)', xy=(0, g(Q)), xytext=(- 0.3, g(Q)))\n",
        "\n",
        "    plt.annotate('x-a', xy=((P + Q)/2, y_P), xytext=((P + Q)/2, y_P - 5))\n",
        "    plt.annotate('g(x)-g(a)', xy=(Q, (y_P + y_Q)/2), xytext=(Q+0.1, (y_P + y_Q)/2))\n",
        "\n",
        "#----------------------------------------------------------------------------------------------------------\n",
        "\n",
        "    plt.xlabel('x')\n",
        "    plt.ylabel('y')\n",
        "    plt.title('Interactive Figure 2')\n",
        "    plt.legend()\n",
        "    plt.grid(False)\n",
        "\n",
        "# Remove the box around the plot\n",
        "    plt.axis()\n",
        "    plt.show()\n",
        "\n",
        "# Interact with the slider to update the plot\n",
        "interact_manual(secant_plot, Q=Q_slider)\n",
        "\n"
      ]
    },
    {
      "cell_type": "markdown",
      "id": "e287d939",
      "metadata": {
        "id": "e287d939"
      },
      "source": [
        "<font size=\"3\"><span style='color:green'> <b>Example.</b></span></font> Let's also look at this numerically:"
      ]
    },
    {
      "cell_type": "code",
      "execution_count": 12,
      "id": "c7035875",
      "metadata": {
        "colab": {
          "base_uri": "https://localhost:8080/"
        },
        "id": "c7035875",
        "outputId": "7489d5c9-4d7d-4cb7-b583-c68d0a1bd57f"
      },
      "outputs": [
        {
          "output_type": "stream",
          "name": "stdout",
          "text": [
            "           x            Δx       f(x + Δx)    (f(x + Δx) - f(x))/(Δx)\n",
            "------------  ------------  --------------  -------------------------\n",
            "3.0000000000  1.0000000000  256.0000000000             175.0000000000\n",
            "3.0000000000  0.1000000000   92.3521000000             113.5210000000\n",
            "3.0000000000  0.0100000000   82.0854120100             108.5412010000\n",
            "3.0000000000  0.0010000000   81.1080540120             108.0540120010\n",
            "3.0000000000  0.0001000000   81.0108005400             108.0054001203\n",
            "3.0000000000  0.0000100000   81.0010800054             108.0005400013\n",
            "3.0000000000  0.0000010000   81.0001080001             108.0000540128\n"
          ]
        }
      ],
      "source": [
        "from tabulate import tabulate\n",
        "from IPython.display import display, Markdown, Latex\n",
        "\n",
        "def F(x):\n",
        "    return x**4\n",
        "\n",
        "x = 3\n",
        "num = 7\n",
        "delxs = [10**-h for h in range(0, num)]\n",
        "ys = [F(x + delx) for delx in delxs]\n",
        "ms = [(F(x + delx) - F(x))/delx for delx in delxs]\n",
        "\n",
        "xs = [x for a in range(0, num)]\n",
        "print(tabulate(np.transpose([xs, delxs, ys, ms]), headers=[\"x\", \"Δx\", \"f(x + Δx)\", \"(f(x + Δx) - f(x))/(Δx)\"], floatfmt=\".10f\"))\n"
      ]
    },
    {
      "cell_type": "markdown",
      "id": "e34e94e5",
      "metadata": {
        "id": "e34e94e5"
      },
      "source": [
        "<font size=\"3\"><span style='color:green'> <b>Question.</b></span></font> What does it appear that the slope of the secant line is approaching as $\\Delta x \\rightarrow 0$?"
      ]
    },
    {
      "cell_type": "markdown",
      "id": "d500ff89",
      "metadata": {
        "id": "d500ff89"
      },
      "source": [
        "We can compare our guess to the value of the derivative at $x=3$."
      ]
    },
    {
      "cell_type": "code",
      "execution_count": 13,
      "id": "902710ce",
      "metadata": {
        "colab": {
          "base_uri": "https://localhost:8080/"
        },
        "id": "902710ce",
        "outputId": "f5a15cfb-d9d7-4593-92bb-2bc7d97e58fa"
      },
      "outputs": [
        {
          "output_type": "stream",
          "name": "stdout",
          "text": [
            "F_prime(3)= 108\n"
          ]
        }
      ],
      "source": [
        "# Define the symbolic variable and the function symbollically\n",
        "x_sym=sp.symbols('x')\n",
        "F_sym= x_sym**4\n",
        "P1=3\n",
        "#---------------------------------------------------------------------------------------------------------\n",
        "\n",
        "# Find the derivative symbollically\n",
        "F_prime_sym=sp.diff(F_sym,x_sym)\n",
        "\n",
        "# Converts the symbolic expression into a Python function (to evaluate it at a large number of points)\n",
        "F_prime=sp.lambdify(x_sym,F_prime_sym)\n",
        "\n",
        "#Calculate the slope of the tangent line at P\n",
        "F_prime=F_prime(P1)\n",
        "print('F_prime(3)=',F_prime)\n"
      ]
    },
    {
      "cell_type": "code",
      "execution_count": 7,
      "id": "68a83bb3",
      "metadata": {
        "id": "68a83bb3"
      },
      "outputs": [],
      "source": []
    }
  ],
  "metadata": {
    "kernelspec": {
      "display_name": "Python 3 (ipykernel)",
      "language": "python",
      "name": "python3"
    },
    "language_info": {
      "codemirror_mode": {
        "name": "ipython",
        "version": 3
      },
      "file_extension": ".py",
      "mimetype": "text/x-python",
      "name": "python",
      "nbconvert_exporter": "python",
      "pygments_lexer": "ipython3",
      "version": "3.11.4"
    },
    "colab": {
      "provenance": [],
      "include_colab_link": true
    },
    "widgets": {
      "application/vnd.jupyter.widget-state+json": {
        "3092883cb405441caebe9a77ad3a1dfd": {
          "model_module": "@jupyter-widgets/controls",
          "model_name": "VBoxModel",
          "model_module_version": "1.5.0",
          "state": {
            "_dom_classes": [
              "widget-interact"
            ],
            "_model_module": "@jupyter-widgets/controls",
            "_model_module_version": "1.5.0",
            "_model_name": "VBoxModel",
            "_view_count": null,
            "_view_module": "@jupyter-widgets/controls",
            "_view_module_version": "1.5.0",
            "_view_name": "VBoxView",
            "box_style": "",
            "children": [
              "IPY_MODEL_9be9b87634f842d5b92a41de554efbee",
              "IPY_MODEL_09b1884e548c4b26958f9a37c0f9a311",
              "IPY_MODEL_314a9b3e88154eacb5cecc1f4e327768"
            ],
            "layout": "IPY_MODEL_b59221c9550247dba82b25b19b61284d"
          }
        },
        "9be9b87634f842d5b92a41de554efbee": {
          "model_module": "@jupyter-widgets/controls",
          "model_name": "FloatSliderModel",
          "model_module_version": "1.5.0",
          "state": {
            "_dom_classes": [],
            "_model_module": "@jupyter-widgets/controls",
            "_model_module_version": "1.5.0",
            "_model_name": "FloatSliderModel",
            "_view_count": null,
            "_view_module": "@jupyter-widgets/controls",
            "_view_module_version": "1.5.0",
            "_view_name": "FloatSliderView",
            "continuous_update": true,
            "description": "Q",
            "description_tooltip": null,
            "disabled": false,
            "layout": "IPY_MODEL_e9a5d8928d8c45a7931c9fa2d6e2cf12",
            "max": 8,
            "min": 0.5,
            "orientation": "horizontal",
            "readout": true,
            "readout_format": ".2f",
            "step": 0.1,
            "style": "IPY_MODEL_c3b6378697ab4c699fe7d50e6afd1bcb",
            "value": 5
          }
        },
        "09b1884e548c4b26958f9a37c0f9a311": {
          "model_module": "@jupyter-widgets/controls",
          "model_name": "ButtonModel",
          "model_module_version": "1.5.0",
          "state": {
            "_dom_classes": [],
            "_model_module": "@jupyter-widgets/controls",
            "_model_module_version": "1.5.0",
            "_model_name": "ButtonModel",
            "_view_count": null,
            "_view_module": "@jupyter-widgets/controls",
            "_view_module_version": "1.5.0",
            "_view_name": "ButtonView",
            "button_style": "",
            "description": "Run Interact",
            "disabled": false,
            "icon": "",
            "layout": "IPY_MODEL_ad4bae5f1704400dbec8331af3cf8559",
            "style": "IPY_MODEL_c244d136b2a84215b6580792a7e78fe5",
            "tooltip": ""
          }
        },
        "314a9b3e88154eacb5cecc1f4e327768": {
          "model_module": "@jupyter-widgets/output",
          "model_name": "OutputModel",
          "model_module_version": "1.0.0",
          "state": {
            "_dom_classes": [],
            "_model_module": "@jupyter-widgets/output",
            "_model_module_version": "1.0.0",
            "_model_name": "OutputModel",
            "_view_count": null,
            "_view_module": "@jupyter-widgets/output",
            "_view_module_version": "1.0.0",
            "_view_name": "OutputView",
            "layout": "IPY_MODEL_743ca970ff3e4e7c8ab005187effca47",
            "msg_id": "",
            "outputs": [
              {
                "output_type": "display_data",
                "data": {
                  "text/plain": "<Figure size 800x500 with 1 Axes>",
                  "image/png": "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\n"
                },
                "metadata": {}
              }
            ]
          }
        },
        "b59221c9550247dba82b25b19b61284d": {
          "model_module": "@jupyter-widgets/base",
          "model_name": "LayoutModel",
          "model_module_version": "1.2.0",
          "state": {
            "_model_module": "@jupyter-widgets/base",
            "_model_module_version": "1.2.0",
            "_model_name": "LayoutModel",
            "_view_count": null,
            "_view_module": "@jupyter-widgets/base",
            "_view_module_version": "1.2.0",
            "_view_name": "LayoutView",
            "align_content": null,
            "align_items": null,
            "align_self": null,
            "border": null,
            "bottom": null,
            "display": null,
            "flex": null,
            "flex_flow": null,
            "grid_area": null,
            "grid_auto_columns": null,
            "grid_auto_flow": null,
            "grid_auto_rows": null,
            "grid_column": null,
            "grid_gap": null,
            "grid_row": null,
            "grid_template_areas": null,
            "grid_template_columns": null,
            "grid_template_rows": null,
            "height": null,
            "justify_content": null,
            "justify_items": null,
            "left": null,
            "margin": null,
            "max_height": null,
            "max_width": null,
            "min_height": null,
            "min_width": null,
            "object_fit": null,
            "object_position": null,
            "order": null,
            "overflow": null,
            "overflow_x": null,
            "overflow_y": null,
            "padding": null,
            "right": null,
            "top": null,
            "visibility": null,
            "width": null
          }
        },
        "e9a5d8928d8c45a7931c9fa2d6e2cf12": {
          "model_module": "@jupyter-widgets/base",
          "model_name": "LayoutModel",
          "model_module_version": "1.2.0",
          "state": {
            "_model_module": "@jupyter-widgets/base",
            "_model_module_version": "1.2.0",
            "_model_name": "LayoutModel",
            "_view_count": null,
            "_view_module": "@jupyter-widgets/base",
            "_view_module_version": "1.2.0",
            "_view_name": "LayoutView",
            "align_content": null,
            "align_items": null,
            "align_self": null,
            "border": null,
            "bottom": null,
            "display": null,
            "flex": null,
            "flex_flow": null,
            "grid_area": null,
            "grid_auto_columns": null,
            "grid_auto_flow": null,
            "grid_auto_rows": null,
            "grid_column": null,
            "grid_gap": null,
            "grid_row": null,
            "grid_template_areas": null,
            "grid_template_columns": null,
            "grid_template_rows": null,
            "height": null,
            "justify_content": null,
            "justify_items": null,
            "left": null,
            "margin": null,
            "max_height": null,
            "max_width": null,
            "min_height": null,
            "min_width": null,
            "object_fit": null,
            "object_position": null,
            "order": null,
            "overflow": null,
            "overflow_x": null,
            "overflow_y": null,
            "padding": null,
            "right": null,
            "top": null,
            "visibility": null,
            "width": null
          }
        },
        "c3b6378697ab4c699fe7d50e6afd1bcb": {
          "model_module": "@jupyter-widgets/controls",
          "model_name": "SliderStyleModel",
          "model_module_version": "1.5.0",
          "state": {
            "_model_module": "@jupyter-widgets/controls",
            "_model_module_version": "1.5.0",
            "_model_name": "SliderStyleModel",
            "_view_count": null,
            "_view_module": "@jupyter-widgets/base",
            "_view_module_version": "1.2.0",
            "_view_name": "StyleView",
            "description_width": "",
            "handle_color": null
          }
        },
        "ad4bae5f1704400dbec8331af3cf8559": {
          "model_module": "@jupyter-widgets/base",
          "model_name": "LayoutModel",
          "model_module_version": "1.2.0",
          "state": {
            "_model_module": "@jupyter-widgets/base",
            "_model_module_version": "1.2.0",
            "_model_name": "LayoutModel",
            "_view_count": null,
            "_view_module": "@jupyter-widgets/base",
            "_view_module_version": "1.2.0",
            "_view_name": "LayoutView",
            "align_content": null,
            "align_items": null,
            "align_self": null,
            "border": null,
            "bottom": null,
            "display": null,
            "flex": null,
            "flex_flow": null,
            "grid_area": null,
            "grid_auto_columns": null,
            "grid_auto_flow": null,
            "grid_auto_rows": null,
            "grid_column": null,
            "grid_gap": null,
            "grid_row": null,
            "grid_template_areas": null,
            "grid_template_columns": null,
            "grid_template_rows": null,
            "height": null,
            "justify_content": null,
            "justify_items": null,
            "left": null,
            "margin": null,
            "max_height": null,
            "max_width": null,
            "min_height": null,
            "min_width": null,
            "object_fit": null,
            "object_position": null,
            "order": null,
            "overflow": null,
            "overflow_x": null,
            "overflow_y": null,
            "padding": null,
            "right": null,
            "top": null,
            "visibility": null,
            "width": null
          }
        },
        "c244d136b2a84215b6580792a7e78fe5": {
          "model_module": "@jupyter-widgets/controls",
          "model_name": "ButtonStyleModel",
          "model_module_version": "1.5.0",
          "state": {
            "_model_module": "@jupyter-widgets/controls",
            "_model_module_version": "1.5.0",
            "_model_name": "ButtonStyleModel",
            "_view_count": null,
            "_view_module": "@jupyter-widgets/base",
            "_view_module_version": "1.2.0",
            "_view_name": "StyleView",
            "button_color": null,
            "font_weight": ""
          }
        },
        "743ca970ff3e4e7c8ab005187effca47": {
          "model_module": "@jupyter-widgets/base",
          "model_name": "LayoutModel",
          "model_module_version": "1.2.0",
          "state": {
            "_model_module": "@jupyter-widgets/base",
            "_model_module_version": "1.2.0",
            "_model_name": "LayoutModel",
            "_view_count": null,
            "_view_module": "@jupyter-widgets/base",
            "_view_module_version": "1.2.0",
            "_view_name": "LayoutView",
            "align_content": null,
            "align_items": null,
            "align_self": null,
            "border": null,
            "bottom": null,
            "display": null,
            "flex": null,
            "flex_flow": null,
            "grid_area": null,
            "grid_auto_columns": null,
            "grid_auto_flow": null,
            "grid_auto_rows": null,
            "grid_column": null,
            "grid_gap": null,
            "grid_row": null,
            "grid_template_areas": null,
            "grid_template_columns": null,
            "grid_template_rows": null,
            "height": null,
            "justify_content": null,
            "justify_items": null,
            "left": null,
            "margin": null,
            "max_height": null,
            "max_width": null,
            "min_height": null,
            "min_width": null,
            "object_fit": null,
            "object_position": null,
            "order": null,
            "overflow": null,
            "overflow_x": null,
            "overflow_y": null,
            "padding": null,
            "right": null,
            "top": null,
            "visibility": null,
            "width": null
          }
        },
        "3a4b89b506184816a5bbc1df3c63bd3b": {
          "model_module": "@jupyter-widgets/controls",
          "model_name": "VBoxModel",
          "model_module_version": "1.5.0",
          "state": {
            "_dom_classes": [
              "widget-interact"
            ],
            "_model_module": "@jupyter-widgets/controls",
            "_model_module_version": "1.5.0",
            "_model_name": "VBoxModel",
            "_view_count": null,
            "_view_module": "@jupyter-widgets/controls",
            "_view_module_version": "1.5.0",
            "_view_name": "VBoxView",
            "box_style": "",
            "children": [
              "IPY_MODEL_750075bacd04495598495009e409d384",
              "IPY_MODEL_878e9bf9d5d64aecb51af43df31bf4f1",
              "IPY_MODEL_d3082fce582e421b9e1c1ecd506b95d5"
            ],
            "layout": "IPY_MODEL_5683b3f8b2154628b80192be937d4898"
          }
        },
        "750075bacd04495598495009e409d384": {
          "model_module": "@jupyter-widgets/controls",
          "model_name": "FloatSliderModel",
          "model_module_version": "1.5.0",
          "state": {
            "_dom_classes": [],
            "_model_module": "@jupyter-widgets/controls",
            "_model_module_version": "1.5.0",
            "_model_name": "FloatSliderModel",
            "_view_count": null,
            "_view_module": "@jupyter-widgets/controls",
            "_view_module_version": "1.5.0",
            "_view_name": "FloatSliderView",
            "continuous_update": true,
            "description": "Δx",
            "description_tooltip": null,
            "disabled": false,
            "layout": "IPY_MODEL_3b5d7e92b5bd4de8a0b96b9254758eab",
            "max": 5,
            "min": 0.01,
            "orientation": "horizontal",
            "readout": true,
            "readout_format": ".2f",
            "step": 0.1,
            "style": "IPY_MODEL_789550085e5a46a994f3419413926832",
            "value": 5
          }
        },
        "878e9bf9d5d64aecb51af43df31bf4f1": {
          "model_module": "@jupyter-widgets/controls",
          "model_name": "ButtonModel",
          "model_module_version": "1.5.0",
          "state": {
            "_dom_classes": [],
            "_model_module": "@jupyter-widgets/controls",
            "_model_module_version": "1.5.0",
            "_model_name": "ButtonModel",
            "_view_count": null,
            "_view_module": "@jupyter-widgets/controls",
            "_view_module_version": "1.5.0",
            "_view_name": "ButtonView",
            "button_style": "",
            "description": "Run Interact",
            "disabled": false,
            "icon": "",
            "layout": "IPY_MODEL_11bce7ae1ec0484da4ff395c5ab97842",
            "style": "IPY_MODEL_a7652f5cb9154861b264ed6880ed10b0",
            "tooltip": ""
          }
        },
        "d3082fce582e421b9e1c1ecd506b95d5": {
          "model_module": "@jupyter-widgets/output",
          "model_name": "OutputModel",
          "model_module_version": "1.0.0",
          "state": {
            "_dom_classes": [],
            "_model_module": "@jupyter-widgets/output",
            "_model_module_version": "1.0.0",
            "_model_name": "OutputModel",
            "_view_count": null,
            "_view_module": "@jupyter-widgets/output",
            "_view_module_version": "1.0.0",
            "_view_name": "OutputView",
            "layout": "IPY_MODEL_1af93fb4aece497a8509d24c93be4d25",
            "msg_id": "",
            "outputs": [
              {
                "output_type": "display_data",
                "data": {
                  "text/plain": "<Figure size 800x500 with 1 Axes>",
                  "image/png": "iVBORw0KGgoAAAANSUhEUgAAArQAAAGrCAYAAAAxVgQJAAAAOXRFWHRTb2Z0d2FyZQBNYXRwbG90bGliIHZlcnNpb24zLjcuMSwgaHR0cHM6Ly9tYXRwbG90bGliLm9yZy/bCgiHAAAACXBIWXMAAA9hAAAPYQGoP6dpAACAfElEQVR4nO3deVxU1f/H8dcw7JsogiCra24omJppi21qi5VWmrbZpmbfb7uWlVvabvVt+9nmbota6tcytbL0a2qFBSruG4ILrqAiO3N/f1wZnUADF4aB9/Px4CH3cObezyAyb8+ce47FMAwDEREREREX5ebsAkREREREzoUCrYiIiIi4NAVaEREREXFpCrQiIiIi4tIUaEVERETEpSnQioiIiIhLU6AVEREREZemQCsiIiIiLk2BVkRERERcmgKtiEgV079/f2JjY51dRimTJ0/GYrGQmprq7FJERBwo0IpIlVISmlatWlXhx+bk5DBq1CiWLFly/gs7z/bs2cOoUaNITk52dil2/fv3x2KxlPmxcOFCZ5d3Tmw2G5MnT+bmm28mKioKPz8/WrVqxdixY8nLy3N2eSJyjtydXYCIyPmSk5PD6NGjAejSpYtzi/kHe/bsYfTo0cTGxhIfH+/wtU8//RSbzeaUury8vPjss89Ktbdp04brrruOO++8Ey8vLydUdm5ycnK4//776dixI4MGDSI0NJSVK1cycuRIFi9ezM8//4zFYnF2mSJylhRoRUT+wfHjx/Hz86u063l4eFTatf7O3d2du++++7Rft1qtlViNyTAM8vLy8PHxOetzeHp6snz5cjp16mRve/jhh4mNjbWH2muvvfZ8lCsiTqApByJS5fXv3x9/f392797Nrbfeir+/PyEhITzzzDMUFxcDkJqaSkhICACjR4+2v1U+atQo+3k2btzI7bffTp06dfD29qZdu3bMmzfP4VolUx6WLl3K4MGDCQ0NJTIyEoCdO3cyePBgLrroInx8fAgODuaOO+4oc05pVlYWTz75JLGxsXh5eREZGcm9997LwYMHWbJkCe3btwfg/vvvt9c6efJk+/MtmUNbWFhInTp1uP/++0td4+jRo3h7e/PMM8/Y2/Lz8xk5ciSNGzfGy8uLqKgohg4dSn5+/ll978v63pz6fG02G6NGjaJ+/fr4+vpy1VVXsX79emJjY+nfv7+936hRo8ocAS3rnLGxsdx0000sWrSIdu3a4ePjw8cffwyY39cnnniCqKgovLy8aNy4Ma+//vo/jmh7eno6hNkSPXv2BGDDhg0V+E6ISFWjEVoRcQnFxcV069aNSy65hHHjxvHTTz/x1ltv0ahRIx555BFCQkIYP348jzzyCD179qRXr14AtG7dGoB169bRuXNnIiIieO655/Dz82PmzJnceuutfPPNN/ZgU2Lw4MGEhIQwYsQIjh8/DkBiYiIrVqzgzjvvJDIyktTUVMaPH0+XLl1Yv349vr6+AGRnZ3P55ZezYcMGHnjgAdq2bcvBgweZN28eu3btonnz5rz00kuMGDGCAQMGcPnllwOUGbg8PDzo2bMns2fP5uOPP8bT09P+tblz55Kfn8+dd94JmOHy5ptv5tdff2XAgAE0b96ctWvX8s4777B582bmzp1bru/1wYMHS9VQq1atMvsOGzaMN954gx49etCtWzdWr15Nt27dznle6qZNm+jbty8DBw7k4Ycf5qKLLiInJ4crr7yS3bt3M3DgQKKjo1mxYgXDhg1j7969/Oc//6nwdTIyMgCoW7fuOdUrIk5miIhUIZMmTTIAIzEx0d523333GYDx0ksvOfRNSEgwLr74YvvxgQMHDMAYOXJkqfNec801RlxcnJGXl2dvs9lsRqdOnYwmTZqUuv5ll11mFBUVOZwjJyen1HlXrlxpAMbUqVPtbSNGjDAAY/bs2aX622w2wzAMIzEx0QCMSZMmlepz3333GTExMfbjRYsWGYDx7bffOvS74YYbjIYNG9qPp02bZri5uRnLli1z6PfRRx8ZgLF8+fJS1/r7dYFSH1deeaVhGCe/Nzt27DAMwzAyMjIMd3d349Zbb3U4z6hRowzAuO++++xtI0eONMp6yfn7OQ3DMGJiYgzAWLhwoUPfMWPGGH5+fsbmzZsd2p977jnDarUaaWlpZ3x+Zbn22muNwMBAIzMzs8KPFZGqQ1MORMRlDBo0yOH48ssvZ/v27f/4uMOHD/Pzzz/Tu3dvjh07xsGDBzl48CCHDh2iW7dubNmyhd27dzs85uGHHy41X/TUOZyFhYUcOnSIxo0bExQUxF9//WX/2jfffEObNm1KjfoCZ3Xj0dVXX03dunWZMWOGvS0zM5Mff/yRPn362NtmzZpF8+bNadasmf05Hjx4kKuvvhqAX3755R+v5e3tzY8//ujw8dZbb5XZd/HixRQVFTF48GCH9n//+98Vfo5/16BBA7p16+bQNmvWLC6//HJq167t8PyuvfZaiouL+d///leha7zyyiv89NNPvPbaawQFBZ1zzSLiPJpyICIuwdvb2z5HtkTt2rXJzMz8x8du3boVwzAYPnw4w4cPL7PP/v37iYiIsB83aNCgVJ/c3FxeffVVJk2axO7duzEMw/61I0eO2D/ftm0bt9122z/WVV7u7u7cdtttfPHFF+Tn5+Pl5cXs2bMpLCx0CLRbtmxhw4YNpb5PJfbv3/+P17JareW+OWrnzp0ANG7c2KG9Tp061K5du1znOJ2yvv9btmxhzZo15/T8SsyYMYMXX3yRBx98kEceeeSs6xSRqkGBVkRcwrncXV9yw9AzzzxTatSvxN9DWVl31P/73/9m0qRJPPHEE1x66aXUqlULi8XCnXfeecGX2brzzjv5+OOPWbBgAbfeeiszZ86kWbNmtGnTxt7HZrMRFxfH22+/XeY5oqKiLmiNZ3K6kemSm/r+rqzvv81m47rrrmPo0KFlPqZp06blquXHH3/k3nvv5cYbb+Sjjz4q12NEpGpToBWRauN0oalhw4aAeXPTuSzN9PXXX3Pfffc5vAWfl5dHVlaWQ79GjRqRkpJyVrWezhVXXEF4eDgzZszgsssu4+eff+aFF14odd3Vq1dzzTXXVMqaqjExMYA5An7qiOqhQ4dKjZyXjNhmZWU5vL1fMspbHo0aNSI7O/uc/g5///13evbsSbt27Zg5cybu7noZFKkONIdWRKqNklUG/h4wQ0ND6dKlCx9//DF79+4t9bgDBw6U6/xWq9VhmgHA+++/X2qU8bbbbmP16tXMmTOn1DlKHl+yru3faz0dNzc3br/9dr799lumTZtGUVGRw3QDgN69e7N7924+/fTTUo/Pzc21r9ZwvlxzzTW4u7szfvx4h/YPPvigVN9GjRoBOMxzPX78OFOmTCn39Xr37s3KlStZtGhRqa9lZWVRVFR0xsdv2LCBG2+8kdjYWL777rtzWtdWRKoW/ddURKoNHx8fWrRowYwZM2jatCl16tShVatWtGrVig8//JDLLruMuLg4Hn74YRo2bMi+fftYuXIlu3btYvXq1f94/ptuuolp06ZRq1YtWrRowcqVK/npp58IDg526DdkyBC+/vpr7rjjDh544AEuvvhiDh8+zLx58/joo49o06YNjRo1IigoiI8++oiAgAD8/Py45JJLypw7WqJPnz68//77jBw5kri4OJo3b+7w9XvuuYeZM2cyaNAgfvnlFzp37kxxcTEbN25k5syZ9nVdz5d69erx+OOP89Zbb3HzzTfTvXt3Vq9ezYIFC6hbt67DKHHXrl2Jjo7mwQcfZMiQIVitViZOnEhISAhpaWnlut6QIUOYN28eN910E/379+fiiy/m+PHjrF27lq+//prU1NTTLr917NgxunXrRmZmJkOGDGH+/PkOX2/UqBGXXnrp2X8zRMSpFGhFpFr57LPP+Pe//82TTz5JQUEBI0eOpFWrVrRo0YJVq1YxevRoJk+ezKFDhwgNDSUhIYERI0aU69zvvvsuVquVzz//nLy8PDp37sxPP/1Ual6uv78/y5YtY+TIkcyZM4cpU6YQGhrKNddcY9+kwcPDgylTpjBs2DAGDRpEUVERkyZNOmOg7dSpE1FRUaSnp5canQVzFHfu3Lm88847TJ06lTlz5uDr60vDhg15/PHHyz3HtCJef/11fH19+fTTT/npp5+49NJL+eGHH7jsssvw9va29/Pw8GDOnDkMHjyY4cOHExYWxhNPPEHt2rXL3DSiLL6+vixdupRXXnmFWbNmMXXqVAIDA2natCmjR48+7Vq5YE6DSE9PB+C5554r9fX77rtPgVbEhVmMv79/JiIicg6ysrKoXbs2Y8eOLTXPV0TkQtAcWhEROWu5ubml2kp27OrSpUvlFiMiNZamHIiIyFmbMWMGkydP5oYbbsDf359ff/2VL7/8kq5du9K5c2dnlyciNYQCrYiInLXWrVvj7u7OG2+8wdGjR+03io0dO9bZpYlIDaI5tCIiIiLi0jSHVkRERERcmgKtiIiIiLg0BVoRERERcWm6KawSFBUVMXv2bAB69eqlvcNFREREziON0IqIiIiIS1OgFRERERGXpkArIiIiIi5NgVZEREREXJoCrYiIiIi4NN1uLyJOVVxcTGFhobPLEHHg4eGB1Wp1dhkiUk4KtCLiFIZhkJGRQVZWlrNLESlTUFAQYWFhWCwWZ5ciIv9AgVZEnKIkzIaGhuLr66vQIFWGYRjk5OSwf/9+AMLDw51ckYj8EwVaEal0xcXF9jAbHBzs7HJESvHx8QFg//79hIaGavqBSBWnm8JEpNKVzJn19fV1ciUip1fy86k53iJVnwKtiDiNphlIVaafTxHXoUArIiIiIi5NgVZExMXFxsbyn//8x9lliIg4jQKtiEgF9O/fH4vFUupj69atF/zakydPJigoqFR7YmIiAwYMuODXFxGpqrTKgYhIBXXv3p1JkyY5tIWEhDipGudeW0SkKtAIrYhIBXl5eREWFubw8eCDD3Lrrbc69HviiSfo0qWL/bhLly489thjDB06lDp16hAWFsaoUaMcHpOVlcXAgQOpV68e3t7etGrViu+++44lS5Zw//33c+TIEfuocMlj/z7lIC0tjVtuuQV/f38CAwPp3bs3+/bts3991KhRxMfHM23aNGJjY6lVqxZ33nknx44dO8/fKRGpNmw2mDED+vQxP69iNEIrIlWCuZi9c5ZH8vX1qLQ72qdMmcJTTz3F77//zsqVK+nfvz+dO3fmuuuuw2azcf3113Ps2DGmT59Oo0aNWL9+PVarlU6dOvGf//yHESNGsGnTJgD8/f1Lnd9ms9nD7NKlSykqKuLRRx+lT58+LFmyxN5v27ZtzJ07l++++47MzEx69+7Na6+9xssvv1wp3wcRcRE2G3zzDYweDevWmW19+kCvXs6t628UaEWkSsjJKcTf/1WnXDs7exh+fp7l7v/dd985hMnrr78ePz+/cj22devWjBw5EoAmTZrwwQcfsHjxYq677jp++ukn/vjjDzZs2EDTpk0BaNiwof2xtWrVwmKxEBYWdtrzL168mLVr17Jjxw6ioqIAmDp1Ki1btiQxMZH27dsDZvCdPHkyAQEBANxzzz0sXrxYgVZETDYbzJljBtm1a822WrXgqafgmmucW1sZFGhFRCroqquuYvz48fZjPz8/hg0bVq7Htm7d2uE4PDzcvsVqcnIykZGR9jB7NjZs2EBUVJQ9zAK0aNGCoKAgNmzYYA+0sbGx9jD79zpEpAYzDJg7F0aNgjVrzLbAQHjySXjiCSjjxtSqQIFWRKoEX18PsrPLFwovxLUrws/Pj8aNGzu0ubm5YRiGQ1tZO0x5eDhey2KxYDsxH61ku9XKcKY6RKQGMgyYN88MssnJZltAgBlin3wSatd2YnH/TIFWRKoEi8VSobf9q5qQkBBSUlIc2pKTk0sFxzNp3bo1u3btYvPmzWWO0np6elJcXHzGczRv3pz09HTS09Pto7Tr168nKyuLFi1alLsWEakhDAO++84Msn/9Zbb5+8Pjj5vTC+rUcWp55aVVDkREzoOrr76aVatWMXXqVLZs2cLIkSNLBdx/cuWVV3LFFVdw22238eOPP7Jjxw4WLFjAwoULAXOaQHZ2NosXL+bgwYPk5OSUOse1115LXFwcd911F3/99Rd//PEH9957L1deeSXt2rU7L89VRKoBw4D586FDB7j5ZjPM+vvDsGGQmgpjx7pMmAUFWhGR86Jbt24MHz6coUOH0r59e44dO8a9995b4fN88803tG/fnr59+9KiRQuGDh1qH5Xt1KkTgwYNok+fPoSEhPDGG2+UerzFYuG///0vtWvX5oorruDaa6+lYcOGzJgx45yfo4hUA4YBCxZAx45w002wahX4+cGzz8KOHfDKKxAc7OwqK8xi/H3Sl5x3RUVFzJ49G4BevXrh7q6ZHlKz5eXlsWPHDho0aIC3t7ezyxEpk35OpVoxDPjhBxg5En7/3Wzz9YVHH4UhQ8DFN2hRshIRERGprgwDfvrJDLIrV5ptPj4weDAMHQqhoc6t7zxRoBURERGpbgwDFi82b/Zavtxs8/aGRx4xg+wZ1rN2RQq0IiIiItXJL7+YI7LLlpnHXl4waJA5TzY83Lm1XSAKtCIiIiLVwdKlZpBdutQ89vKCAQPgueegfn3n1naBKdCKiIiIuLJly8wg+8sv5rGnJzz8sLkEV0SEc2urJAq0IiIiIq5o+XIzyC5ebB57eMBDD5lB9pTtr2sCBVoRERERV7JypRlkf/zRPPbwgAcegOefh+ho59bmJAq0IiIiIq7g99/NILtokXns7g733w8vvAAxMc6tzckUaEVERESqsj/+MJffWrDAPLZaoX9/M8g2aODMyqoMbX0rIiKnFRsby3/+8x9nlyFSM61aZW5Pe8klZpi1Ws0R2c2b4bPPFGZPoUArIlIBBw4c4JFHHiE6OhovLy/CwsLo1q0by0sWLq8iRo0aRXx8/Dn3S0xMZMCAAeevMBH5Z3/9BTffDO3bw/z5J0dkN26EiROhYUNnV1jlaMqBiEgF3HbbbRQUFDBlyhQaNmzIvn37WLx4MYcOHXJ2aRdEiIvv7y7iUpKTzakF//2veezmBnffDcOHQ+PGzqysytMIrYhIOWVlZbFs2TJef/11rrrqKmJiYujQoQPDhg3j5ptvduj30EMPERISQmBgIFdffTWrV692ONe3335L+/bt8fb2pm7duvTs2dP+tWnTptGuXTsCAgIICwujX79+7N+/3/71JUuWYLFYWLx4Me3atcPX15dOnTqxadMmACZPnszo0aNZvXo1FosFi8XC5MmTz+o5/33KgcVi4bPPPqNnz574+vrSpEkT5s2b5/CYlJQUrr/+evz9/alXrx733HMPBw8ePKvri9QIa9ZAr16QkGCG2ZIgu2EDTJmiMFsOCrQiUiUYhsHx/ONO+TAMo1w1+vv74+/vz9y5c8nPzz9tvzvuuIP9+/ezYMEC/vzzT9q2bcs111zD4cOHAZg/fz49e/bkhhtuICkpicWLF9OhQwf74wsLCxkzZgyrV69m7ty5pKam0r9//1LXeeGFF3jrrbdYtWoV7u7uPPDAAwD06dOHp59+mpYtW7J371727t1Lnz59KvC3cWajR4+md+/erFmzhhtuuIG77rrL/tyysrK4+uqrSUhIYNWqVSxcuJB9+/bRu3fv83Z9kWpj7Vq4/XZo0wbmzAGLBfr1g3XrYNo0aNrU2RW6DE05EJEqIacgB/9/+Tvl2tkfZOPn5feP/dzd3Zk8eTIPP/wwH330EW3btuXKK6/kzjvvpHXr1gD8+uuv/PHHH+zfvx8vLy8Axo0bx9y5c/n6668ZMGAAL7/8MnfeeSejR4+2n7tNmzb2z0uCKUDDhg157733aN++PdnZ2fj7n/wevfzyy1x55ZUAPPfcc9x4443k5eXh4+ODv78/7u7uhIWFnds3pwz9+/enb9++ALzyyiu89957/PHHH3Tv3p0PPviAhIQEXnnlFXv/iRMnEhUVxebNm2mqF2gRM7COHg2zZpnHFgv06QMjRkDz5s6tzUVphFZEpAJuu+029uzZw7x58+jevTtLliyhbdu29rf0V69eTXZ2NsHBwfYRXX9/f3bs2MG2bdsASE5O5pprrjntNf7880969OhBdHQ0AQEB9tCalpbm0K8kRAOEh4cDOExNuFBOva6fnx+BgYH2665evZpffvnF4bk3a9YMwP78RWqs9evhzjshLu5kmO3d2xyp/fJLhdlzoBFaEakSfD19yf4g22nXrghvb2+uu+46rrvuOoYPH85DDz3EyJEj6d+/P9nZ2YSHh7NkyZJSjwsKCgLAx8fntOc+fvw43bp1o1u3bnz++eeEhISQlpZGt27dKCgocOjr4eFh/9xisQBgs9kq9FzOxqnXLbl2yXWzs7Pp0aMHr7/+eqnHlYRukRpnwwZ46SWYMQNKpjjdfru5SUKrVs6trZpQoBWRKsFisZTrbf+qqEWLFsydOxeAtm3bkpGRgbu7O7GxsWX2b926NYsXL+b+++8v9bWNGzdy6NAhXnvtNaJO7MW+atWqCtfk6elJcXFxhR93rtq2bcs333xDbGws7u56iZEabtMmM8h++eXJINurlxlkT3mnQ86dphyIiJTToUOHuPrqq5k+fTpr1qxhx44dzJo1izfeeINbbrkFgGuvvZZLL72UW2+9lR9++IHU1FRWrFjBCy+8YA+mI0eO5Msvv2TkyJFs2LCBtWvX2kc0o6Oj8fT05P3332f79u3MmzePMWPGVLjW2NhYduzYQXJyMgcPHjzjTWy5ubkkJyc7fJzt9IBHH32Uw4cP07dvXxITE9m2bRuLFi3i/vvvd0rAFnGKLVvgnnugRQv44gszzN56KyQlwTffKMxeAAq0IiLl5O/vzyWXXMI777zDFVdcQatWrRg+fDgPP/wwH3zwAWCONH///fdcccUV3H///TRt2pQ777yTnTt3Uq9ePQC6dOnCrFmzmDdvHvHx8Vx99dX88ccfgLnu6+TJk5k1axYtWrTgtddeY9y4cRWu9bbbbqN79+5cddVVhISE8OWXX5627+bNm0lISHD4GDhw4Fl8h6B+/fosX76c4uJiunbtSlxcHE888QRBQUG4ueklR6q5rVvhvvugWTOYPh1sNnODhL/+MlcxKMdmJ3J2LEZ516uRs1ZUVMTs2bMB6NWrl96GkxovLy+PHTt20KBBA7y9vZ1djkiZ9HMq5bZ9O4wZYy61VfJOxE03mZskXHyxU0urKZSsRERERM7Gjh0wdqy5+UFJkL3hBjPItm/v1NJqGgVaERERkYpITYWXX4bJk6GoyGzr3t0Mspdc4sTCai4FWhEREZHySEszg+ykSVBYaLZ17WoG2UsvdWppNZ0CrYiIiMiZpKfDK6/AhAkng+y115pBtnNnp5YmJgVaERERkbLs2gWvvgqffQYlG5tcfbUZZC+/3KmliSMFWhEREZFT7dljBtlPPjkZZLt0gdGj4YornFqalE2BVkRERARg71547TX4+GMo2YzkiivMINuli1NLkzNToBUREZGaLSMDXn8dPvoI8vLMtssuM4PsVVeBxeLc+uQfKdCKiIhIzbRvH7zxBowfD7m5ZlunTmaQveYaBVkXon0IRUTkrEyePJmgoCBnlyFScfv3w5Ah0LAhvP22GWY7doRFi+DXX80VDBRmXYoCrYhIOVksljN+jBo1ytkllpvFYmHu3Lnn1K9Pnz5s3rz5/BZ2FpYsWYLFYiErK6tc/Uo+6tWrx2233cb27dsrp1BxvoMH4dlnoUEDGDcOcnKgQwdYsABWrDDXlFWQdUmaciAiUk579+61fz5jxgxGjBjBpk2b7G3+/v7OKMtpfHx88PHxcXYZFbZp0yYCAgLYsmULAwYMoEePHqxZswar1ers0uRCOXTIDLDvvw/Hj5tt7dqZUwuuv14hthrQCK2ISDmFhYXZP2rVqoXFYrEfHz9+nLvuuot69erh7+9P+/bt+emnnxweHxsbyyuvvMIDDzxAQEAA0dHRfPLJJw59VqxYQXx8PN7e3rRr1465c+disVhITk6290lJSeH666/H39+fevXqcc8993Dw4EH717t06cJjjz3G0KFDqVOnDmFhYQ6jx7GxsQD07NkTi8ViP66ov085GDVqFPHx8UybNo3Y2Fhq1arFnXfeybFjx+x9bDYbr776Kg0aNMDHx4c2bdrw9ddfn/E606ZNo127dgQEBBAWFka/fv3Yv38/AKmpqVx11VUA1K5dG4vFQv/+/c94vtDQUMLDw7niiisYMWIE69evZ+vWrWf1PZAq7vBheOEFiI01Vy84fhzatoVvv4U//oAbblCYrSYUaEWkajAM88XGGR+Gcc7lZ2dnc8MNN7B48WKSkpLo3r07PXr0IC0tzaHfW2+9Rbt27UhKSmLw4ME88sgj9lHeo0eP0qNHD+Li4vjrr78YM2YMzz77rMPjs7KyuPrqq0lISGDVqlUsXLiQffv20bt3b4d+U6ZMwc/Pj99//5033niDl156iR9//BGAxMREACZNmsTevXvtx+fDtm3bmDt3Lt999x3fffcdS5cu5bXXXrN//dVXX2Xq1Kl89NFHrFu3jieffJK7776bpUuXnvachYWFjBkzhtWrVzN37lxSU1PtoTUqKopvvvkGMEde9+7dy7vvvlvuektGmAtK1hqV6iEzE4YPN4PsK69AdjYkJMB//wurVsFNNynIVjeGXHCFhYXGjBkzjBkzZhiFhYXOLkfE6XJzc43169cbubm5Jxuzsw3DjJaV/5GdXeHnMGnSJKNWrVpn7NOyZUvj/ffftx/HxMQYd999t/3YZrMZoaGhxvjx4w3DMIzx48cbwcHBDt+XTz/91ACMpKQkwzAMY8yYMUbXrl0drpOenm4AxqZNmwzDMIwrr7zSuOyyyxz6tG/f3nj22Wftx4AxZ86cf3yeZ+r39+/ByJEjDV9fX+Po0aP2tiFDhhiXXHKJYRiGkZeXZ/j6+horVqxwOM+DDz5o9O3b9x9rKZGYmGgAxrFjxwzDMIxffvnFAIzMzMwzPu7v/fbs2WN06tTJiIiIMPLz80v1L/PnVKq2zEzDGDHCMAIDT/77btPGMObMMQybzcnFyYWkObQiIudBdnY2o0aNYv78+ezdu5eioiJyc3NLjdC2bt3a/nnJlIWSt883bdpE69at8fb2tvfp0KGDw+NXr17NL7/8UuZ83W3bttG0adNS1wEIDw+3X+dCio2NJSAgoMzrbt26lZycHK677jqHxxQUFJCQkHDac/7555+MGjWK1atXk5mZic1mAyAtLY0WLVpUuMbIyEgMwyAnJ4c2bdrwzTff4OnpWeHzSBVy5Aj85z/wzjvm5wBxceYWtbfeCm56Q7q6U6AVkarB19d8W9BZ1z5HzzzzDD/++CPjxo2jcePG+Pj4cPvtt5d6K9vDw8Ph2GKx2ANaeWRnZ9OjRw9ef/31Ul8LDw8/b9c5W2e6bvaJv9/58+cTERHh0M/Ly6vM8x0/fpxu3brRrVs3Pv/8c0JCQkhLS6Nbt25nPU1g2bJlBAYGEhoa6hC+xQUdPQrvvmsuvVWyykXLlmaQ7dVLQbYGUaAVkarBYgE/P2dXcdaWL19O//796dmzJ2CGt9TU1Aqd46KLLmL69Onk5+fbA97f57e2bduWb775htjYWNzdz/5XuIeHB8XFxWf9+LPRokULvLy8SEtL48orryzXYzZu3MihQ4d47bXXiIqKAmDVqlUOfUpGV8v7fBo0aKD1c13dsWPw3nvw1lvmfFmAFi1g5Ei4/XYF2RpIf+MiIudBkyZNmD17NsnJyaxevZp+/fpVeES05DEDBgxgw4YNLFq0iHHjxgHmSCfAo48+yuHDh+nbty+JiYls27aNRYsWcf/991cooMbGxrJ48WIyMjLILAkEp7Fjxw6Sk5MdPo6XLH1UAQEBATzzzDM8+eSTTJkyhW3btvHXX3/x/vvvM2XKlDIfEx0djaenJ++//z7bt29n3rx5jBkzxqFPTEwMFouF7777jgMHDthHgqUaOnYMXn3VvNnrxRfNMNusGXz5JaxZA717K8zWUPpbFxE5D95++21q165Np06d6NGjB926daNt27YVOkdgYCDffvstycnJxMfH88ILLzBixAgA+7za+vXrs3z5coqLi+natStxcXE88cQTBAUF4VaBF/K33nqLH3/8kaioqDPOXwV46qmnSEhIcPhISkqq0HMrMWbMGIYPH86rr75K8+bN6d69O/Pnz6dBgwZl9g8JCWHy5MnMmjWLFi1a8Nprr9lDfomIiAhGjx7Nc889R7169fjXv/51VrVJFZadDa+/bm6I8Pzz5nJcF10En38OKSlw552gdYRrNIthnIf1auSMioqKmD17NgC9evU6p7cJRaqDvLw8duzYQYMGDRxugJLSPv/8c+6//36OHDnikpsYuDL9nFYBx4/D//0fvPGGucsXQJMmMGIE9O2rECt2SlYiIlXI1KlTadiwIREREaxevZpnn32W3r17K8xKzZKTA+PHm0G2ZHWOxo3NtWX79QMNDMnf6CdCRKQKycjIYMSIEWRkZBAeHs4dd9zByy+/7OyyRCpHbi589JE5vWDfPrOtYUMzyN59t4KsnJZ+MkREqpChQ4cydOhQZ5chUrlyc+GTT8ztaTMyzLYGDcwbv+65B/62HJzI3ynQioiIiHPk5cGnn5orF+zda7bFxJhB9r77FGSl3BRoRcRpdE+qVGX6+byA8vPhs8/MILt7t9kWHQ0vvAD9+4N2bpMKUqAVkUpXsptUTk6ObnaSKisnJwcovfuZnIP8fJg4EV55BXbtMtsiI80g+8ADCrJy1hRoRaTSWa1WgoKC2H/i7mVfX1/7xgEizmYYBjk5Oezfv5+goCCsWhrq3BUUwKRJ8PLLkJ5utkVEmGvKPvggnGbrY5HyUqAVEacICwsDsIdakaomKCjI/nMqZ6mwECZPNoPszp1mW/36MGwYPPQQaH1fOU8UaEXEKSwWC+Hh4YSGhlJYWOjsckQceHh4aGT2XBQWwtSpMHYspKaabWFhZpAdMEBBVs47BVoRcSqr1argIFJdFBXBtGlmkN2+3WyrVw+eew4GDgTNmZcLRIFWREREzk1REXz+OYwZA9u2mW2hofDsszBoEPj6Orc+qfYUaEVEROTsFBXBl1+aQXbLFrMtJASGDoVHHgE/P+fWJzWGAq2IiIhUTHExfPUVvPQSbN5sttWtC0OGwKOPKshKpVOgFRERkfIpLoaZM80gu3Gj2Vanjhlk//Uv8Pd3bn1SYynQioiIyJnZbDBrFoweDRs2mG116sDTT8O//w0BAc6tT2o8BVoREREpm80G33xjBtl168y22rVPBtnAQOfWJ3KCAq2IiIg4stlgzhwzyK5da7YFBcFTT8Fjj0GtWk4tT+TvFGhFRETEZBgwdy6MGgVr1phtgYFmkH38cTPUilRBCrQiIiI1nWHAvHlmkE1ONtsCAuCJJ+DJJ81pBiJVmAKtiIhITWUY8N13ZpD96y+zzd/fHI196inzxi8RF6BAKyIiUtMYBsyfbwbZP/802/z9zRu9nn4agoOdWp5IRSnQioiI1BSGAQsWmEE2MdFs8/Mz15B95hlzcwQRF6RAKyIiUt0ZBixaZAbZ338323x9zV29hgwxt6sVcWEKtCIiItWVYcCPP5pBduVKs83HBwYPhqFDITTUqeWJnC8KtCIiItWNYcDixWaQXb7cbPP2hkceMYNsWJhTyxM53xRoRUREqpNffoGRI2HZMvPYywsGDYJnn4XwcOfWJnKBKNCKiIhUB0uXmkF26VLz2MsLBgyA556D+vWdW5vIBaZAKyIi4sqWLTOD7C+/mMeenvDwwzBsGEREOLc2kUqiQCsiIuKKli83g+zixeaxhwc89JAZZKOinFubSCVToBUREXElK1eaQfbHH81jDw948EEzyEZHO7c2ESdRoBUREXEFv/9uBtlFi8xjd3d44AF4/nmIiXFubSJOpkArIiJSlf3xh7n81oIF5rG7O/TvDy+8ALGxTixMpOpQoBUREamKVq0yg+z8+eax1Qr33WcG2YYNnVqaSFWjQCsiIlKV/PWXGWS//dY8tlrhnnvgxRehUSOnliZSVSnQioiIVAVJSTB6NPz3v+axmxvcfTcMHw6NGzu3NpEqToFWRETEmVavNkdk5841j93coF8/M8g2berMykRchgKtiIiIM6xdawbZ2bPNY4sF+vY1g2yzZk4tTcTVKNCKiIhUppQUc2rB11+bxxYL9OkDI0ZA8+bOrU3ERSnQioiIVIb1680gO2sWGIbZ1ru3GWRbtnRubSIuToFWRETkQtqwAV56CWbMOBlkb7/d3CShVSvn1iZSTSjQioiIXAibNplB9ssvTwbZXr3MINu6tXNrE6lmFGhFRETOpy1bzCD7xRdgs5ltt95qBtn4eGdWJlJtKdCKiIicD1u3wpgxMH36ySB7883mSgYJCU4tTaS6U6AVERE5F9u3m0F22jQoLjbbbrrJDLIXX+zU0kRqCgVaERGRs7FjB4wdC1OmnAyyN9xgBtn27Z1amkhNo0ArIiJSEamp8PLLMHkyFBWZbd27m0H2kkucWJhIzaVAKyIiUh5paWaQnTQJCgvNtq5dzSB76aVOLU2kplOgFREROZP0dHjlFZgw4WSQvfZac5OETp2cW5uIAAq0IiIiZdu1C159FT77DAoKzLarrzaD7GWXObc2EXGgQCsiInKqPXvMIPvJJyeDbJcuZpC94gqnliYiZVOgFRERAdi7F157DT7+GPLzzbYrrjCDbJcuTi1NRM5MgVZERGq2jAx4/XX46CPIyzPbLrvMDLJXXQUWi3PrE5F/pEArIiI107598MYbMH485OaabZ06mUH2mmsUZEVciAKtiIjULPv3w5tvwocfngyyHTuaQfa66xRkRVyQAq2IiNQMBw+aQfaDDyAnx2zr0MEMst26KciKuDAFWhERqd4OHYJx4+D99+H4cbOtXTszyF5/vYKsSDWgQCsiItXT4cPw1lvw3nuQnW22tW1rBtkbb1SQFalGFGhFRKR6ycyEt9+Gd9+FY8fMtoQEc4vaHj0UZEWqIQVaERGpHrKy4J134D//gaNHzbY2bcwge8stCrIi1ZgCrYiIuLYjR8wQ+8475ucAcXFmkL31VnBzc2JxIlIZFGhFRMQ1HT1qTit4+21zdBagVSsYORJ69VKQFalBFGhFRMS1HDtm3uj11lvmfFmAFi3MIHv77QqyIjWQAq2IiLiGY8fMNWTHjTNXMABo1swMsnfcAVarc+sTEadRoBURkaotO9vc1evNN801ZQEuughGjIA+fRRkRUSBVkREqqjjx+H//g/eeMPc5QugSRMzyPbtqyArInYKtCIiUrXk5MD48WaQ3b/fbGvcGIYPh379wF0vXSLiSL8VRESkasjNhY8+gtdfh337zLaGDc0ge/fdCrIiclr67SAiIs6VmwuffAKvvQYZGWZbgwbw4otwzz3g4eHc+kSkylOgFRER58jLg08/hVdfhb17zbaYGDPI3nefgqyIlJsCrYiIVK78fPjsMzPI7t5ttkVHwwsvQP/+4Onp1PJExPUo0IqISOXIz4eJE+GVV2DXLrMtMtIMsg88oCArImdNgVZERC6sggKYNAlefhnS0822iAh4/nl48EHw8nJufSLi8hRoRUTkwigshMmTzSC7c6fZVr8+DBsGDz0E3t5OLU9Eqg8FWhEROb8KC2HqVBg7FlJTzbawMDPIDhigICsi550CrYiInB9FRTBtmhlkt2832+rVg+eeg4EDwcfHufWJSLWlQCsiIuemqAg+/xzGjIFt28y20FB49lkYNAh8fZ1bn4hUewq0IiJydoqK4MsvzSC7ZYvZFhJiBtlHHlGQFZFKo0ArIiIVU1wMX30FL70EmzebbXXrwtChMHgw+Pk5tz4RqXEUaEVEpHyKi2HmTDPIbtxotgUHw5Ah8Oij4O/v3PpEpMZSoBURkTOz2WDWLBg9GjZsMNvq1IFnnoF//QsCApxbn4jUeAq0IiJSNpsNvvnGDLLr1plttWvD00/Dv/8NgYHOrU9E5AQFWhERcWSzwezZZpBNSTHbgoLgqafgscegVi2nlici8ncKtCIiYrLZYO5cM8iuWWO2BQaaQfbxx81QKyJSBSnQiojUdIYB//2vGWSTk822gAB44gl48klzmoGISBWmQCsiUlMZBnz7LYwaBUlJZpu/vzka+9RT5o1fIiIuQIFWRKSmMQyYP98Msn/+abb5+5s3ej39tLkUl4iIC1GgFRGpKQwDFiwwg2xiotnm52cuvfXMM+bmCCIiLkiBVkSkujMMWLTIDLK//262+fqamyEMGWJuVysi4sIUaEVEqivDgB9/NIPsypVmm4+PuT3t0KEQGurU8kREzhcFWhGR6sYwYPFiM8guX262eXvDI4+YQTYszKnliYicbwq0IiLVyS+/wMiRsGyZeezlBYMGwbPPQni4c2sTEblAFGhFRKqDpUvNILt0qXns5QUDB5pBtn5959YmInKBKdCKiLiyZcvMIPvLL+axpycMGADPPQcREc6tTUSkkijQioi4ouXLzSC7eLF57OkJDz0Ew4ZBZKRzaxMRqWQKtCIirmTlSjPI/vijeezhAQ8+CM8/D1FRzq1NRMRJ3JxdgIiIlMPvv0P37tCpkxlm3d3NqQVbtsD48QqzIn+Tnp7OAw88QP369fH09CQmJobHH3+cQ4cOObs0uQAUaEVEqrI//oAbboCOHc3NEdzdzakFW7bAxx9DTIyzKxSpcrZv3067du3YsmULX375JVu3buWjjz5i8eLFXHrppRw+fNjZJcp5pikHIiJV0apV5tSC7783j61WuO8+eOEFaNjQubWJVHGPPvoonp6e/PDDD/j4+AAQHR1NQkICjRo14oUXXmD8+PFOrlLOJ43QiohUJX/+CT16QPv2Zpi1WqF/f9i0CSZMUJgV+QeHDx9m0aJFDB482B5mS4SFhXHXXXcxY8YMDMNwUoVyISjQiohUBUlJcMst0K4dfPcduLnBvffCxo0waRI0auTsCkVcwpYtWzAMg+bNm5f59ebNm5OZmcmBAwcquTK5kDTlQETEmVavNreonTvXPHZzg379YPhwaNrUmZWJuLR/GoH19PSspEqqF8MwsFgszi6jFAVaERFnWLvWDLKzZ5vHFgv07WsG2WbNnFqaiCtr3LgxFouFDRs20LNnz1Jf37BhAyEhIQQFBVV+cS6msKiQDRkbSEpLIjk92f7n5rGbCQ0MdXZ5DhRoRUQqU0oKjB4NX39tHlss0KcPjBgBp3mLVETKLzg4mOuuu47/+7//48knn3SYR5uRkcHnn3/Oo48+6sQKq6bsvGxW71rtEF5T9qRQUFRQqm9SWhLdWnVzQpWnZzE0K/qCKyoqYvaJUZhevXrh7q7/R4jUOOvXm0F21iwo+bXbu7cZZFu2dG5tItXMli1b6NSpE82bN2fs2LE0aNCAdevWMWTIENzd3Vm2bBn+/v7OLtNp9h3d5xBck9KS2Hpga5nTNAJ9AomPiic+Kp6EqAQSohNoHt4cT/eqNWVDyUpE5ELasAFeeglmzDgZZG+/3VySq1Ur59YmUk01adKExMRERo0aRe/evdm/fz+GYdCrVy+mTZuGr6+vs0usFDabje0HtzuG1/QkMo5klNm/flB9e2iNj4onITqB2OBY3Nyq/hoCCrQiIhfCpk1mkP3yy5NBtlcvM8i2bu3c2kRqgNjYWCZPnmw/HjlyJG+//TZr1qyhY8eOzivsAikoKmDdnnUO4XX1rtUcyztWqq/FYqFpvaYkRJ0MrvFR8VVuXmxFKNCKiJxPW7aYQfaLL8BmM9tuvdUMsvHxzqxMpEYbPXo0sbGx/Pbbb3To0MElRh1P50jOkVLzXdfvXU9hcWGpvl7uXsRFxDmMuraObI2fl58TKr9wKhRoDcNg4MCBfP3112RmZpKUlERUVBTNmzfnjz/+IDY29gKVee7Wr19P165d2bRpE35+1esvUUSqgK1bYcwYmD79ZJC9+WZzJYOEBKeWJiKm+++/39klVIhhGOw9stc+zzU5PZmk9CS2H9heZv8g36BSUwaahTXD3Vr9xy8r9AwXLlzI5MmTWbJkCQ0bNqRu3boMHTqUW265pVLC7Kuvvsrzzz/PG2+8wZAhQyr02BYtWtCxY0fefvtthg8ffoEqFJEaZ/t2M8hOmwbFxWbbTTeZQfbii51amoi4jmJbMVv3by0VXg8cK3sDiKg6UaXCa3Sd6Cq5RmxlqNAqBx988AFvvvkmO3fuBCAnJ4fw8HAWLVp0TvNR+vfvT2xsLKNGjTpjvyZNmnDppZeSmJjIhg0bKnyd+fPn8/DDD5OWllapKw1olQORamjHDhg7FqZMORlkb7jBDLLt2zu1NBGp2vIK80jZnWK/SSs5PZk1u9ZwPP94qb5uFjeahTUjIfpkeI2PiifYP/iC12kYBtnZBRw4kMPBgyc/br21GYGBXhf8+hVR7mTVv39/pkyZApiTiWNiYhg3bhxeXl4OYba4uJgBAwbw888/k5GRQXR0NIMHD+bxxx8/p0KXLl3KwYMH+eCDD4iJiWHFihV06tQJML/h1113HVarlYULF2KxWDh8+DCtW7fmgQce4KWXXgLguuuu4/DhwyxdupRrrrnmnOoRkRoqNRVefhkmT4aiIrOte3czyF5yiRMLE5GqKPN4psOmBEnpSWzYu4FiW3Gpvj6ePrSOaO0QXuMi4vDx9CnjzBVXUFDMwYM5HDhw/MSfjkG1rLaCgtJ1JicPpE2bsPNS0/lS7kD77rvv0qhRIz755BMSExOxWq2MHTuWi//2lprNZiMyMpJZs2YRHBzMihUrGDBgAOHh4fTu3fusC50wYQK33347gYGB3HbbbUyYMMEeaC0WC1OmTCEuLo733nuPxx9/nEGDBhEREcGIESPs5/D09CQ+Pp5ly5Yp0IpIxaSlmUF20iQoPHHjRdeuZpC99FKnliYizmcYBrsyd5WaMrDz0M4y+wf7B9unDCREJRAfHU/Tek2xulnLfc2CgmIOHDjOgQM57N9/3P65Y9vJ46ysvLN6bt7e7oSE+BIS4kfdur5YrVXvhrpyB9patWoREBCA1WolLMxM5Tt37qR+/foO/Tw8PBg9erT9uEGDBqxcuZKZM2eedaA9evQoX3/9Nd9//z0Ad911FzfffDPvvvuufWHkiIgIPv74Y+69914yMjL4/vvvSUpKKvX2fv369e1TJkRE/lF6OrzyCkyYcDLIXnutuUnCif9Ui0jVV2wz+GPHYfYfyyM0wJsODepgdTu7+aZFxUVs3rfZYcpAcnoyh7IPldm/Qd0GDstjJUQlEFE7otR817y8IvYcOOIQQg8cOH5KMHU8Pno0v8K1u7lZqFvXl7p1fQkJ8S3z85NtZoD19fU4q+9TZTqnyZy5ubl4e3uXav/www+ZOHEiaWlp5ObmUlBQQPwpy9V8/vnnDBw40H6cn5+PxWJh3Lhx9rYFCxZw+eWXA/Dll18SHBzMFVdcAcCVV15JrVq1mDFjBg8++KD9MXfccQdz5szhtddeY/z48TRp0qRUbT4+PuTk5JzL0xaRmmDXLnj1VfjsMyg4sfXj1VebQfayy5xbm4hUyMKUvYz+dj17j5wcoQyv5c3IHi3o3ir8jI/Nyc9h7e61pea75hWWHu10t7rTIryFPby2qBdHuFdjCo552EdMN286zvIDGzlw4M9So6jHjpXeZvafWK0We/gMCfElNNTPPpp68vhkW506PridZZCvys4p0NatW5fMzEyHtq+++opnnnmGt956i0svvZSAgADefPNNfv/9d3ufm2++mUtOmWv27LPPEhERwWOPPWZvi4iIsH8+YcIE+vbta18zzs3Njb59+zJx4kSHQJuTk8Off/6J1Wply5YtZdZ8+PBhGjVqdC5PW0Sqsz17zCD7yScng2yXLmaQPfGfahFxHQtT9vLI9L/4+x3wGUfyeGT6X4y/u6091B48dtA+VaBk2sCmjE3YDFup8/q4+xLtfxFhHo2pVRSD57FICvcHc2hdISv3ZTN333GOHv0V+LVC9bq7u1G3bulgWlY4DQ31IyjIu1oG1Io6p0CbkJDA9OnTHdqWL19Op06dGDx4sL1t27ZtDn0CAgIICAhwOK5Tpw6NGzcudY21a9eSmJjIJ5984tDer18/xo0bx8aNG2nWrBkATz/9NG5ubixYsIAbbriBG2+8kauvvtrhcSkpKdx+++1n94TPg+Li4jKX1LBYLA6LPBcXl56EfSqr9eQcm+rc12azlbm39Nn0dXNzs3/v1bfifQ3DwGYr/Uu9xKk/wy7Zd/duePNN+PTTk0H2yithxAgsXbpc8BrgzP829Dui7L76HVF1+laZf8un9C22Gbw0LwULNiwYWADjb0dPzVzJ2wsnsHZ3MhnZe8q8hnthAO5HIijMCKV4XygcCiP3aB024cYme6+sEx9/e6y7W7nDaUiIL0FB3jV26a1zcU6Btlu3bgwbNozMzExq164NmEtrTZ06lUWLFtGgQQOmTZtGYmIiDRo0OKtrTJgwgcjISNzd3UlJSbG3e3h4EBkZyYQJE3jzzTeZP38+EydOZOXKlbRt25YhQ4Zw3333sWbNGnttqamp7N69m2uvvfZcnvY5WbFiRZk/qHXq1KH1KdthLl++/LT/gIOCghymcPz2228UFpbeHQTM/yyceuNeYmIieXllTwr39fWlQ4cO9uM///zztNMzvL29HVa3SE5O5tix0tvrgfl31blzZ/vx2rVrycrKKrOvm5ubfWoJmP8BOXz4cJl9Abp06WL/fMOGDRw4UPZ6fQCXX365/cVt8+bNZGSUvZc1QKdOnfD09ARg69at7NlT9i85gI4dO9qn3uzYsYP09PTT9m3fvr19Y4+0tDRSU1NP27dt27YEBgYCsGvXLrZvL3shbYD4+HiCgoIA2Lt372nfoQCIi4sjONhc7mX//v1s3LjxtH1btGhBaKi5FeKBAwdYv379afs2a9bMPr/+8OHDrF279rR9mzRpYn8X5siRIyQnJ5+2b8OGDYmOjgbg2LFj/PXXX6ftGxsba18TOycnh8TExNP2jYqKMt+tycgg/403+G3tWnPVgksugehoc1Q2NhYsFupv3UrTpk0BKCwsZMWKFac9b1hYmP0/2TabjWXLlp22b0hICC1btrQfn6mvfkeY9DviJP2OMJX1O8JmMzh+vIDt+7IJzTlEqDtYMPCzFJBteLGmKBwbFsBCToEX/9uWTn7Rib/DI3XgUNiJj3A4FEZRbgBFp1zT19eDeg38qFfPn3r1zDBar97fj83PFVArxzkF2ri4ONq2bcvMmTPtc2IHDhxIUlISffr0wWKx0LdvXwYPHsyCBQsqfP6CggKmT5/OoUOHiIuLK7PP1KlTGTp0KA8++CCjRo2ibdu2gLnF3Q8//MCgQYOYMWMGYM7F7dq1KzExMWf5jEWk2sjMhKefhvHjwTCgY0eIijKDbIMGoBcgkSrFMAwKCoo5dqyA7OyTHz/8cJjdu/8iIyObQ0f2ERK5jzy3LPA5hkdQLXwD2v7jua1br8J/R2fCvBoSHlzXDKPN/UqF03r1/AkN9cPf3/PCP2GpkAptrFCW+fPnM2TIEFJSUqr0vsgFBQU0adKEL774wmEkoDKcurHCLbfcUubGCno7sey+ejux6vStim8nnlXf/fvh7bex/N//4XZidNHo2BHbyJHm6gX/MCVIUw6qVl/9jqg6fc/230ZRkY39+4+zb182e/ceY9++4+zde/zEn9lkZBxj/37za3l5p/xseGdDnQxstfdi1M2AOhlYah3GzXLy34mne0vCao01a8VGnPs+DDgxQnuy39T+7bmiWehpa5eq75y3rLrxxhvZsmULu3fvJioq6nzUdEGkpaXx/PPPV3qY/Tur1erwC/ZM/SpyzuratyL/SVLfC9vXYrGU+++uSvY9eNCcI/vBB1DyNnmHDjB6NJZu3bCWc0T2QtULVePfnKv1rQr/NtTXdOrPu2EYHDtWQEZGNhkZZhg1/8w+pc3888CB45x5aM0GgZkQkgF1M7CG7oPgDIq9jpbqaQB1/EJoE9mG9g0vJiG6LW8s9ORgdhG2E193qBkIq+VN56Yh5X6eUjWdlz1Yn3jiifNxmguqcePGZd50JiLV3KFDMG4cvP8+HD+xrWS7duaqBddfr6kFIhV0/HgBu3cfY8+esj927zbDa05O2fO2y+LmZjHf3g/3xj/yCJa6GeT5pXPYbQd787aSW3xyS9iSMVqLxULTek3t67qWrPEaGug40hrgba5y8Pd/6SXHI3u0OOv1aKXqOC+BVkSkyjl8GN56C957D7KzzbaLLzZ39rrxRgVZkb/Jzy9i797sv4XTo+zZ49hWkcX8AwI8CQvzJyzMn/DwAMLC/OyfBwQbHLGmsrdgK1sOryM5PZn1e9dTWHwiCOeePI+XuxdxEXEnNyaITiAuIg5/b/9/rKF7q3DG392Wl+alwCn3MIaVcx1acQ0KtCJSvWRmwttvw7vvQsld9QkJZpDt0UNBVmqckjmqZjj9+4hqtr390KHcfz7ZCX5+HkREBFK/fgAREQHUr3/yIzzcn/r1A6hXzx9/f08Mw2Dvkb0n1nX9iz/TkkjanMT2A2WvyhDkG+Qw4poQncBF9S7Cw/3sd6vq3iqcqy8KYca3hRwvKGJI20vo2DhEI7PViAKtiFQPWVnwzjvwn//A0RNz69q0MYPsLbcoyEq1lJtbyO7dx0hPP8KuXUdP+ThmD6r79h3HZivf/d9eXlaHcFpWYK1fP4CAAK8yH2+z2diyfwuJaStJTk62b06w/9j+MvtH1YkiIepkcE2ITiC6TvQFWebK6mYhqo4vAB0bBSvMVjMKtCLi2o4cMUPsO++YnwPExZlB9tZboQqvviJyJtnZBX8LqaU/yjuqarVaCA8/NZT6/y20mqOttWuXf83UvMI8Unan2ENrUnoSa3at4Xj+8VJ93SxuNAtr5jDqGh8VT7B/cIW+JyKno0ArIq7p6FFzWsHbb5ujswCtWsHIkdCrl4KsVFmGYXD0aP5pQurJ0dYjR8o3V9XX14OoqEAiIx0/IiJOBtWQEF+s1rP/N5F5PNMMraeE1w17N1BsK73Emo+nD60jWjuE11b1W+Hr5XvW1xf5Jwq0IuJajh41Vyx46y1zvixAixZmkL39dgVZcbqcnELS04+Qlnbqh2Nwzc4uKNe5AgO97AG1rNAaGRlIrVpe5+0tesMw2JW5i6S0JIfwuvPQzjL7B/sHl5rv2rReU6xu5V96TeR8UKAVEddw7Ji5huy4ceYKBgDNmplB9o47oAJrl4qcLZvNYP/+4w5hdefOLNLSjtqPDx4sezvgv6td25uoqFongmlAGSOsgQQGlj1X9XwoKi5i877NDsE1OT2ZQ9mHyuwfGxxrn+daslRWRO0IbesqVYICrYhUbdnZ8OGH5qYIh0680F50EYwYAX36KMjKeXXq6OrOnX8fZT1CevpRCgrOvJMZgL+/JzExtYiONj+iogJPCa/mdAA/v8rbPjUnP4e1u9c6hNe1u9eSW1B6Dq7VzUqL8BYO4TU+Kp4g36BKq1ekohRoRaRqOn4c/u//4I03zF2+AJo0MYNs374KslJhhmGQmZlHamqW/eNsRlfd3CzUrx9gD6vR0YGnfF6LmJig8zoNoKIOZR8ypwykJ5GcZobXTRmbsBmlt6X18/KjTWQbhykDLeu3xNvD2wmVi5w9BVoRqVpycmD8eDPI7j+x1E/jxjB8OPTrB+76tSWnd+RIHjt2ZDmE1lOPy7MpwN9HVx3Dai3q1w/Aw8P5/6EyDIOdh3aeDK8nbtralbmrzP6hAaGlpgw0Dm1coe1tRaoqvTKISNWQmwsffQSvvw779pltDRuaQfbuuxVkBYBjx/LLDKoln2dl5f3jOerV8yM2NoiYmCBiYx1HVqOjazl1dPV0CosK2Zix0SG8Jqcnk5WTVWb/RiGNzPAalUB8tBlew4O0I5ZUX3qFEBHnys2FTz6B116DjAyzrUEDePFFuOce8Dj73YHE9eTnF7FjRxbbt2eyY0dmqdB6+PA/r7tat64vDRoEERt78qPkOCYmCF/fqv0zlZ2XzZpda0hKP7nSQMruFPKLSo8ue1g9aFm/5cnwGhVPm6g2BPoEOqFyEedRoBUR58jLg08/hVdfhb17zbaYGDPI3nefgmw1VTKPddu2w2zblsn27ZkOn+/adRTjHza1qlPHxyGknhpaY2KC8PevvJutztW+o/vs81xLpgxs2b8Fo4xvQoB3wMkdtU6E1xb1W+Dp7jrPV+RCUaAVkcqVnw+ffWYG2d27zbboaHjhBejfHzz14uzqiottpKcfLRVWt20zj/9pwwA/Pw8aNapDw4a1HUJrSWC9kEtZXSg2m43tB7c7bk6QlsTeI3vL7F8/qL59nmvJnNcGdRtovqvIaSjQikjlyM+HiRPhlVdg14mbViIjzSD7wAMKsi4mN7eQbdsy2br1sENw3bYtk507sygsLH1H/anCw/1p1KgOjRrVpmHD2qf8WYeQEN8qN4e1IgqKCli/Z73DlIHk9GSO5R0r1ddisdC0XtNS4TU0MNQJlYu4LgVaEbmwCgpg0iR4+WVITzfbIiLg+efhwQfBy/VG22qK/Pwitm/PZMuWw2zZcujEn4fZvPkQu3YdPeNjPT2tNGgQZA+rJSOujRrVpkGD2lV+Hmt5Hc09yur01Q7hdd2edRQWF5bq6+XuRVxEnP0mrfioeFpHtsbf298JlYtULwq0InJhFBbC5MlmkN15YtvM+vVh2DB46CHw1jqXVUFhYTGpqVn20Lp588ngmpZ2BJvt9BNag4K8adzYcZS1JLhGRARgtVaft8cNw2Dvkb32qQIl4XXbgW1l9g/yDbKH1pJR12ZhzfBwrx5BXqSqUaAVkfOrsBCmToWxYyE11WwLDzeD7MMPK8g6QXGxjbS0I/bR1VNHW3fsyKS4+PSh1d/fkyZN6tCkSTBNm5p/lhwHB/u49NSA07HZbGzZv6VUeN1/bH+Z/aPqRJUKrzHBMdXyeyNSVSnQisj5UVQE06aZQXb7drMtLAyeew4GDAAfH+fWVwNkZxewefMhNm486PCxefMh8vNPv12rj487jRuXHVrr1fOr1sEsrzCPlN0pJ8NrehJrdq3heP7xUn3dLG40C2vmsKtWm8g21A2o64TKReRUCrQicm6KiuDzz2HMGNh24u3X0FAzyA4cCL6+zq2vmjEMgz17jv0ttJoh9kzzWj09rTRqVNseVps2PRla69cPwM2t+obWEpnHM+03aJWMuq7fu55iW+mw7+PpQ+uI1ieXyYpOoFX9Vvh66edZpCpSoBWRs1NUBF9+aQbZLVvMtpAQePZZeOQRBdlzlJdXxNath0uNtm7adIjs7ILTPi4kxJdmzeraPy66KJhmzeoSGxtUrea0nolhGOzK3OWwPFZyejKph1LL7B/sH+wwZSAhOoEmoU1wt+olUsRV6F+riFRMcTF89RW89BJs3my21a0LQ4fC4MHg5+fc+lxMbm4hmzYdYt26/axbd4B16w6wfv0Btm/PPO0NWVarhUaN6pwIrcFcdNHJ8BocXLP+I1FsK2ZTxiaHKQPJ6ckcyj5UZv/Y4FiHKQMJUQlE1I6o1tMqRGoCBVoRKZ/iYpgxwwyymzaZbcHBMGQIPPoo+GvpoTPJyyti48aD9uC6fr0ZXs8UXGvV8ipztLVRozp4elor+Rk4X05+Dmt3r3UIr2t3ryW3oPR2uFY3Ky3CW5Sa71rbr7YTKheRC02BVkTOzGaDmTPNILthg9lWpw488wz8618QEODc+qqYkuBqBtaTo65nCq61a3vTsmUoLVuGnPgIpXnzuoSF+dfYkcND2YccpgwkpSexKWMTNqP0hg1+Xn60iWzjEF5b1m+Jt4dW1BCpKRRoRaRsNht8/TWMHg3r15tttWvD00/Dv/8NgYHOrc/JbDaDHTsyWbNm34mP/axdu49t28oXXFu0OBleq/tKAmdiGAY7D+08GV5PbFCwK3NXmf1DA0Lt81xLdtdqFNoIq1vNG7EWkZMUaEXEkc0Gs2ebQTYlxWwLCoKnnoLHHoNatZxanjNkZuaydq0ZWE8Nr8ePl94NCk4G1xYt6p4y8lqzgytAYVEhGzM2OoTX5PRksnKyyuzfKKSRfZ5rye5aYbXCavT3UCqHYRgMHDiQr7/+mszMTJKSkoiKiqJ58+b88ccfxMbGOrvE01q/fj1du3Zl06ZN+P3DPQ0ZGRncc889rFixAg8PD7KysgBYvHgx//rXv0hJScFqLd9/Fjt27MiQIUO47bbbzvUpnBUFWhEx2Wwwd64ZZNesMdsCA80g+/jjZqit5oqKbGzefOiUUVfzIz297OWwvLystGwZSlxcKK1b1yMuLpRWrUJr9FSBEtl52azZtcYeWpPSkkjZnUJ+UX6pvh5WD1rWb+kw6tomqg2BPjX7XQBxnoULFzJ58mSWLFlCw4YNqVu3LkOHDuWWW26plDD76quv8vzzz/PGG28wZMiQCj22RYsWdOzYkbfffpvhw4efse8777zD3r17SU5OptYpgxVDhw7lxRdfLHeYBXjxxRd58skn6dmzJ25ulb+iigKtSE1nGPDf/5pBNjnZbAsIgCeegCefNKcZVENHj+aTnJxBUtJekpIyWLNmH+vWHaCgoOwNCGJiahEXV4/Wrc3w2rp1PZo0CcbdvWYshXUm+4/ud1hhICktiS37t2AYpadeBHgHOOyolRCVQIv6LfB093RC5SJl27ZtG+Hh4XTq1AmAnJwcJkyYwKJFi87pvP379yc2NpZRo0adsd/EiRO55557mDhxYoUDLcD999/Pww8/zLBhw3B3P33U27ZtGxdffDFNmjSxt/36669s27atwiOt119/PQ899BALFizgxhtvrHDN50qBVqSmMgz49lsYNQqSksw2f39zNPapp8wbv6qJffuySUo6GV6TkjLYuvVwmX39/T3tI64lH61ahRIUpBuMbDYbOw7uMINr2sn5rnuP7C2zf3it8FJTBhrUbeCU0RuR8urfvz9TpkwBwGKxEBMTw7hx4/Dy8qJjx472fsXFxQwYMICff/6ZjIwMoqOjGTx4MI8//vg5XX/p0qUcPHiQDz74gJiYGFasWGEP1oZhcN1112G1Wlm4cCEWi4XDhw/TunVrHnjgAV566SUArrvuOg4fPszSpUu55ppryrxObGwsO3fuBGDq1Kncd999TJ48ma+++orrrrsO71O2Kd+2bRtPPfUUv/32G8ePH6d58+a8+uqrXHvttfY+VquVG264ga+++kqBVkQqgWHA/PlmkP3zT7PN39+80evpp82luFyUYRikpmaVCq979hwrs39UVCAJCeEkJIQRHx9Gmzb1iIkJqhG7Zv2TgqIC1u9Zbw+tJTtsHcsr/b20WCw0CW1yMrxGxRMfHU+9wHpOqFzk3Lz77rs0atSITz75hMTERKxWK2PHjuXiiy926Gez2YiMjGTWrFkEBwezYsUKBgwYQHh4OL179z7r60+YMIHbb7+dwMBAbrvtNiZMmGAPtBaLhSlTphAXF8d7773H448/zqBBg4iIiGDEiBH2c3h6ehIfH8+yZctOG2gTExO59957CQwM5N1338XnxPbky5Yto1+/fg59s7OzueGGG3j55Zfx8vJi6tSp9OjRg02bNhEdHW3v16FDB1577bWzfu7nQoFWpKYwDFiwwAyyiYlmm5+fufTWM8+YmyO4EMMw2LYtk8TE3axatcceXrOy8kr1tVigadNge3ht2zac+Pgw6tatWZsQnM7R3KOsTl/tMGVg3Z51FBaXvunNy92LVhGtHMJr68jW+HtrHWKpHmrVqkVAQABWq5WwsDAAdu7cSf369R36eXh4MHr0aPtxgwYNWLlyJTNnzjzrQHv06FG+/vprvv/+ewDuuusubr75Zt599138T6z1HRERwccff8y9995LRkYG33//PUlJSaWmFtSvX98+AluWkJAQvLy88PHxsT/P0z3XNm3a0KZNG/vxmDFjmDNnDvPmzeNf//qXwzXT09Ox2WyV/k6MAq1IdWcYsGiRGWR//91s8/U9GWRDQpxaXnkYhsHu3cfs4TUxcQ+rVu0hM7N0ePXwcKNVq1ASEsJISAinbdtwWreuh7+/5mgahkHGkQyHUdektCS2HdhWZv8g3yD7PNeSOa/Nwprh4e5RyZWLOFdubq7DW/AlPvzwQyZOnEhaWhq5ubkUFBQQHx9v//rnn3/OwIED7cf5+flYLBbGjRtnb1uwYAGXX345AF9++SXBwcFcccUVAFx55ZXUqlWLGTNm8OCDD9ofc8cddzBnzhxee+01xo8f7zAHtoSPjw85OTkAvPLKK7zyyiv2r61fv95hZPWfnmt2djajRo1i/vz57N27l6KiInJzc0lLSyt1TZvNRn5+vn3Et7Io0IpUV4YBP/5oBtmVK802Hx9zV68hQyA01KnlncnBgzkngutuEhPNAJuRkV2qn6enlfj4MNq3r0/btmZ4bdEipEbuovV3NpuNrfu3lgqv+4/tL7N/VJ0oe3gtuWkrJjimxq/WIAJQt25dMjMzHdq++uornnnmGd566y0uvfRSAgICePPNN/m9ZOAAuPnmm7nkkkvsx88++ywRERE89thj9raIiAj75xMmTKBv37720U03Nzf69u3LxIkTHQJtTk4Of/75J1arlS1btpRZ8+HDh2nUqBEAgwYNchg1/vsI7D8912eeeYYff/yRcePG0bhxY3x8fLj99tspKCgodU0/P79KD7OgQCtS/RgGLF5sBtnly802b28YPBiGDoV6VWteY05OIatW7eH333fZw2tqalapflarhVatQmnXrj7t29enffsIWrUKVXgF8grzWLdnnbnSwInwunrXao7nHy/V183iRrOwZg4rDcRHxVM3wLWmnIhUpoSEBKZPn+7Qtnz5cjp16sTgwYPtbdu2Ob7bERAQQMApuykGBARQp04dGjduXOoaa9euJTExkU8++cShvV+/fowbN46NGzfSrFkzAJ5++mnc3NxYsGABN9xwAzfeeCNXX321w+NSUlK4/fbbAahTpw51ynmjb0JCAutLNtM55bn279+fnj17AuaIbWpqaqnHpqSkkJCQUK7rnG8KtCLVyS+/wMiRsGyZeeztDYMGwbPPwilzpJzFMAy2b8/kt992sXLlLn77bRerV++jqKj0dqYXXRTsEF7j48Pw9dVb3ZnHM1m9a7VDeN2QsYGi4qJSfX08fWgd0dohvMZFxOHrpbnDIhXRrVs3hg0bRmZmJrVPLGXYpEkTpk6dyqJFi2jQoAHTpk0jMTGRBg0anNU1JkyYQGRkJO7u7qSUbGqDOVc3MjKSCRMm8OabbzJ//nwmTpzIypUradu2LUOGDOG+++5jzZo19tpSU1PZvXu3wyoEFXmuJas8lGjSpAmzZ8+mR48eWCwWhg8fjs1W+vf2smXL6Nq1a4WveT4o0IpUB0uXmkF26VLz2MsLBg6E556D8HCnlZWdXcCqVXtYuTLdHmAPHMgp1a9+/QA6doykQwczvF58cTi1atXsZbIMw2BX5i77VIGS8Jp6KLXM/sH+wQ7TBeKj4mlarynuVv2aFzlXcXFxtG3blpkzZ9rnxA4cOJCkpCT69OmDxWKhb9++DB48mAULFlT4/AUFBUyfPp1Dhw4RFxdXZp+pU6cydOhQHnzwQUaNGkXbtm0BGD16ND/88AODBg1ixowZgDkXt2vXrsTExFS4lrvuuouhQ4eyadMmLrroIgDefvttHnjgATp16kTdunV59tlnOXrUccOZ3bt3s2LFilIj2ZXFYpS18rWcV0VFRcyePRuAXr16nXGRY5EK+d//zKkFv/xiHnt6woABZpA9ZV5WZSgZfV2+PJ2VK9P57bfdrFmzD5vN8VeMp6eVtm3D6dgxgksvjeLSSyOJjAys0XM1i23FbMrYZA+vJdvCHso+VGb/2OBYe3AtCa+RtSNr9PdQ5J8UFxez7MS7V5dffnmFdsECmD9/PkOGDCElJaVKr6VcUFBAkyZN+OKLL+jcufNZnWPIkCEcPXqUjz/+uNyPefbZZ8nMzCw1ZaKyKFmJuKJffzVHZH/+2Tz29ISHHoJhwyAyslJKKC62sXbtfpYt28myZWn8+msae/eWvnErKiqQjh0jufTSSC69NIqEhDC8vGrur56c/BzW7l7rEF7X7F5DbkFuqb5WNystwls4hNc2kW2o7Vc9d28TqcpuvPFGtmzZwu7du4mKinJ2OaeVlpbG888/f9ZhFuCFF17g//7v/yq0/FZoaChPPfXUWV/zXGmEthJohFbOmxUrzCD700/msYcHPPggPP88XOBfsHl5RSQm7raH1+XL0zl6NN+hj4eHG+3a1adTpyh7iI2ICLygdVVlh7IPlZoysDFjIzaj9NwzPy8/2kS2cQivLeu3xNujZk+9EDlfznWEVqo2JSsRV/Dbb2aQ/eEH89jdHR54wAyyZzFHqjyOHMlj+fJ0fv01jWXL0vjjj90UFBQ79AkI8KRTpyguuyyayy+PpkOHCHx8at6NW4ZhsPPQzpPh9cQGBemH08vsHxoQap8qUPJn49DGWN30AisicjYUaEWqsj/+MIPswoXmsbs79O8PL7wAsbHn9VLHjuXz669p/PJLKr/8kspff+0tNf81NNSPyy+PPvERQ+vW9XB3r7pzyS6EwqJCNmZsLBVes3KyyuzfKKRRqfAaXitc811FRM4jBVqRqmjVKjPIntj+EKsV7rvPDLING56XS+TkFLJiRTq//LKDX35J5Y8/dlNc7BhgGzWqzeWXx9hDbOPGdWpUEMvOy2bNrjX2m7SS0pJI2Z1CflF+qb4eVg9a1m95MrxGJdA6sjW1fGs5oXIRkZpFgVakKvnzT3PVgu++M4+tVrjnHnjxRTix48vZys8v4rffdtlHYH/7bVepKQQNGgRx1VWxXHVVA666KrZGzX/df3S/wwoDSWlJbNm/hbJuMwjwDnAYcU2ISqBF/RZ4umt7XRERZ1CgFakKkpLMIDtvnnns5gZ33w3Dh0MZO8qUh2EYpKTs54cftvHDD9v53/92kpfnuPh+ZGTgiQBrhtjY2KBzex4uwGazsePgDnOqQFqyfcrAnqw9ZfYPrxXuMGUgISqBBnUbVOlle0REahoFWhFnWr3aDLJz55rHbm7Qr58ZZJs2rfDp9u8/zk8/bT8RYreVWkarXj0/rr66gT3ANmpUu1pPISgoKmD9nvX20JqUlsTqXas5mnu0VF+LxUKT0CYOo67x0fHUC6xaWwWLiEhpCrQizrB2rRlkTyznhsUCffuaQfbEXt3lkZ9fxPLl6fYAm5SU4fB1Hx93unSJpWvXRnTt2ojmzetW2wB7NPcoq9NXO0wZWLdnHYXFhaX6erp7EhcRV2q+q7+3vxMqFxGRc6VAK1KZUlJg9Gj4+mvz2GKBPn1gxAho3rxcp9ixI5P587fw/fdbWLp0Jzk5joEtISHMHmA7d46qdpsYGIZBxpEMhykDSWlJbDuwrcz+Qb5BJ0dcT0wbaBbWDA/3mre8mIhIdVW9XulEqqr1680gO2sWGIYZZO+4wwyyLVue8aGFhcWsWJHO/PlbmD9/C+vXH3D4eliY/4kA25DrrmtEaKjfhXwmlcpms7F1/1aHKQNJaUnsP7a/zP6RtSPt81xLwmtMcEy1HZUWERGTAq3IhbRhA7z0EsyYYQZZgNtvN5fkatXqtA87eDCHBQvMALto0TaysvLsX7NaLXTuHM2NNzbh+usb06pVaLUIbHmFeazbs+7kSgMn5rsezz9eqq+bxY2Lwi4iISrBPm0gPiqeugF1nVC5iIg4mwKtyIWwaZMZZL/88mSQ7dXLDLKtW5fqbhgGGzYcZO7cjXz33WZ++20Xp64WFRzsw/XXN+Gmm5rQtWsjatf2qaQncmFk5WTZQ2vJnxsyNlBUXFSqr7eHN60jWzuMusZFxOHr5euEykVEpCpSoJUqpX///kyZMgUADw8PoqOjuffee3n++edxd3eBH9ctW8wg+8UXYLOZbbfeagbZ+HiHrjabQWLibubM2cicORvZvPmQw9fbtKnHjTc24aabmtKhQwRWq+stE2UYBrszd9vnuZaE19RDqWX2r+NXp9SUgab1muJudYG/exERcRq9SkiV0717dyZNmkR+fj7ff/89jz76KB4eHgwbNszZpZ3e1q0wZgxMn34yyN58s7mSQUKCvVthYTFLl+5kzpwNzJ27iT17jtm/5ulp5dprG3LzzU254YYmREW51g5TxbZiNu/b7BBck9OTOZh9sMz+scGxjpsTRCcQWTuyWkyfEBGRyqVAK1WOl5cXYWFhADzyyCPMmTOHefPmVc1Au20bjB0L06ZB8Yldt266yQyyF18MQG5uIQsXbmXOHHM6QWbmyfmwAQGe3HBDE3r2bMb11zchMNDLCU+i4nLyc0jZk+IQXtfsXkNuQW6pvlY3Ky3CWziE1/ioeGr71XZC5SIiUh0p0EqV5+Pjw6FDh/65Y2XascMMslOmnAyyN9xgBtn27cnPL2LRvE3MmLGOefM2kZ1dYH9oSIgvt9xyET17NueaaxpU+WW1DmUfclhhIDk9mY0ZG7EZtlJ9fT19aRPVxuFmrVYRrfD28HZC5SIiUlNU7VdSqdEMw2Dx4sUsWrSIf//7384ux5SaCi+/DJMnQ9GJG5i6d4dRoyhs246fftrOjP5zmTt3I0eO5NsfFh1di9tua07Pns3o1CmqSs6HNQyDnYd2Ot6slZ5E+uH0MvuHBITYg2tJeG0c2hirm7WSKxcRkZpOgVaqnO+++w5/f38KCwux2Wz069ePUaNGObeotDQzyE6ceDLIdu1K0YsjWJIfzozPUpg9+y0OHz75lnv9+gH07t2CPn1accklEVVqbmhRcREbMzY6jLompyeTmZNZZv9GIY3sUwZKwmt4rfAq9ZxERKTmUqCVKueqq65i/PjxeHp6Ur9+feeubpCeDq+8AhMmQKG5I5dx7bVsuesxPlrjyRd3rGTfvpPrpIaG+nHHHS3o06clnTtH4+bm/MB3PP84a3atMcPrid211u5eS35Rfqm+HlYPWtZv6TDftU1kG2r5utYNaiIiUrMo0EqV4+fnR+PGjZ1bxK5d8Oqr8NlnUGDOf83vfCXftO7Na79aWHv/X/auwcE+3HZbc/r0acWVV8Y4dTrB/qP7T853PbG71uZ9mzFOXdT2hADvAPsNWiXhtUV4C7w8XOPGNBERkRIKtCKn2rPHDLKffGIPshnN2/GmXzf+s9IT23Jz21lPTyu33HIR99zTmu7dG+PhUbnzRg3DYPuB7aXC656sPWX2D68V7rA8VnxUPA3rNsTNrerN5RUREakoBVoRgL174bXX4OOPId98K35TvZY8ceRSFm6IPNHJ4LLLornnntbccUeLStutq6CogPV71ttv0irZEvZo7tFSfS0WC01Cm5wMr1EJxEfHUy+wXqXUKiIi4gwKtFKlTJ48uXIvmJEBr78OH30Eeeb6sH/6NGJIbmd+2dcAsNCoUW3uuac1d9/dmkaN6lzQco7mHmV1+mp7eE1OTyZldwqFxYWl+nq6exIXEXfyZq2oBFpHtsbf2/+C1igiIlLVKNBKzbRvH7zxBsb48VhyzZUJVliiGWFcyeLchvj4eNC/TyseeiiBTp2iLsjd/Huz9tpv0ioJr1v3by2zby2fWg6jrgnRCTQLa4aHu8d5r0tERMTVKNBKzbJ/P7z5JsaHH2LJzcUCrCSSkXThR6MRbdvWZ/zDbenbtxW1ap2fzQBsNhtb9291mDKQnJ7MvqP7yuwfWTuyVHiNCY7RElkiIiKnUaFAaxgGAwcO5OuvvyYzM5OkpCSioqJo3rw5f/zxB7GxseU6z3PPPcfx48d5//33z6ZmkYo7eBDefJPi997HmmcG2d+JYCRdWOHfgrvubs1rD19M27bh53SZ/MJ8Uvak2EddS+a7Hs8/Xqqvm8WNi8Iuss9zTYgyQ2zdgLrnVIOIiEhNU6FAu3DhQiZPnsySJUto2LAhdevWZejQodxyyy3lDrMAzzzzDA0bNuTJJ5+kYcOGFa1ZpPwOHaLotTcw3n8fj/xcrEAi9RlJFw62u5JHBrfnm94t8fPzrPCps3Ky7BsSlGxQsCFjA0XFRaX6ent40zqytT20JkQnEBcRh6+X73l4kiIiIjVbhQLttm3bCA8Pp1OnTgDk5OQwYcIEFi1aVKGL1q1bl27dujF+/HjefPPNCj1WpFwOH+bYqFfx/PhDvArMObKrCOdl92sIuLMno/59CR06RJTrVIZhsDtzt32ea0l4TT2UWmb/On517DdplYTXpvWa4m7VDB8REZELodyvsP3792fKlCmAuTRQTEwM48aNw8vLi44dO9r7FRcXM2DAAH7++WcyMjKIjo5m8ODBPP744w7n69GjBy+88IICrZxfmZnse3YMgZM/IqDQDLJ/EcZ7da6n8RP38dGAi6lX7/SrABTbitm8b7N9nmvJnwezD5bZPyY4xj7PtSS8RtaO1HxXERGRSlTuQPvuu+/SqFEjPvnkExITE7FarYwdO5aLL77YoZ/NZiMyMpJZs2YRHBzMihUrGDBgAOHh4fTu3dver0OHDuzatYvU1NQKTVcQKYuRmcmOx0dS78vPqFdkBtlk6jGz+R3EjxzIp72al9r8ILcgl7W71zqE1zW715B7YkT3VFY3K83DmzuMusZHxVPbr3alPD8RERE5vXIH2lq1ahEQEIDVaiUsLAyAnTt3Ur9+fYd+Hh4ejB492n7coEEDVq5cycyZMx0Cbcnjdu7cqUArZ1RsM/hjx2H2H8sjNMCbDg3qYHUzR0CLDmWyYeALxM6dTMNiM4iuoR4/drqHK995nFc6mJsiHMo+RPLWZIfwujFjIzbDVup6vp6+tIlq4xBeW0W0wtvj/Kx6ICIiIufXOU3qy83Nxdu79Iv8hx9+yMSJE0lLSyM3N5eCggLi4+Md+vj4mLss5eTknEsJUs0tTNnL6G/Xs/dInr0tvJY3wztHEPzmf2j2/VTibGaQTbHU47eu93PRy31o5JbKd+mfMeYDc1vY9MPpZZ4/JCCk1JSBxqGNsbpV7la2IiIicvbOKdDWrVuXzMxMh7avvvqKZ555hrfeeotLL72UgIAA3nzzTX7//XeHfocPHwYgJCTkXEqQamxhyl4emf4Xxilt/vk59Fowg04vzSEoLxuADd6BfH51S/7XyZ2U/R+T+dFrZZ6vUUgjh+kCCdEJhNcK13xXERERF3dOgTYhIYHp06c7tC1fvpxOnToxePBge9u2bdtKPTYlJQUPDw9atmx5LiW4nOLi4jIDlMViwc3NzaHfmVitJ0cQq2PfYpvB6G/XAwZu2PDPz+WupO95MPG/1M43g+zGuhGMap3BN7HHMdz+gFTz8Z5WT1qEtyA+Kp74qHjaRLahdWRravnWKnUtm630lAMREal+iouL7b/zDcP4h97ias4p0Hbr1o1hw4aRmZlJ7drmzTFNmjRh6tSpLFq0iAYNGjBt2jQSExNp0KCBw2OXLVvG5Zdfbp96UFOsWLGizEBbp04dWrdubT9evnz5acNWUFCQwxSO3377jcLCwjL7BgQEONy4l5iYSF5eXpl9fX196dChg/34zz//PO2UEG9vb4fVLZKTkzl27FiZfT08POjcubP9eO3atWRlZZXZ183NjWbxzZiR+Bd7jxTT3Mig0751hFmP0cSSRkqHBA77BPJ7VCs2140mr3gZ/fythNUKs3+E+Ic4LpG1D9bsW1Pm9UREpGaw2WykpaXZP5fq5ZwCbVxcHG3btmXmzJkMHDgQgIEDB5KUlESfPn2wWCz07duXwYMHs2DBAofHfvXVV4waNepcLi8uzjAMsnKy2HtkLxlHMsg4msGeI3uYP20+dS2deXJLU7ocW0deoB9pMTFkegfwe3QrNtWNwTjxn4Jb2vSmWXigk5+JiIiIOJPFOMdx9/nz5zNkyBBSUlIc3jI/kwULFvD000+zZs0a3N2r/2LzRUVFzJ49G4BbbrmlzOdc3accFBvFbNi7wb4pwer01azetZpjuY6jut5FMGh9MUPXeBCaV4jNzY1ttcMZ36k33za7guK/3aw17YFL6Ngo+IzXFhERMQzDPjLr7u5e7swiruGc0+SNN97Ili1b2L17N1FRUeV6zPHjx5k0aVKNCLN/Z7VaHYLgmfpV5JxVqe/R3KOs2bXm5BJZ6Ums27OOgqKCUo/zdPckLiKOdvVacu3CDK789ldCCnOAQnYG1uP9y/ry35ZX0tzzAM05QEpRGDbcsABhtbzp2DjEvoSXiIjI6RQXF/Pbb78BOEyDk+rhvCTKJ554okL9b7/99vNxWakC9mbtddhRKyk9ia37t5bZt5ZPrZMrDEQlEB8dT/NasRwY+x5eY8YRXHAEgFRLbdbe8jDFzw7km7kbcMOG2ylrHZTE15E9WijMiohIuWnubPVV84ZI5azYbDa27t9qD60lAXbf0X1l9o+sHWlfGqtkg4LYurEnb4jLy+PYOx9wfOyr1M8xl3BLJYg/ut7P1ZNH0iPcXJHA29+Hl+alwCn3poXV8mZkjxZ0bxV+QZ+ziIiIuAYFWiklvzCflD0pJKeZ4TU5PZnV6avJPrFc1qncLG5cFHaRQ3htE9WGkIDTrC+cn0/RR5+QO3IMAUcOALCTWixo24duX7xE74vqOXTv3iqcqy8KYca3hRwvKGJI20s0zUBEREQcKNDWcFk5WaxOX+0w6rp+73qKiotK9fX28KZ1ZGv7lIGE6ATiIuLw9fL95wvl58PEieSNeAnvgxkEAGkEMi3qJq6YNIpB1zQ57UOtbhai6pjX6NgoWGFWREREHCjQ1hCGYbA7c3epKQM7Du4os38dvzoO810TohNoWq+p4/qu5VFQAJMmUfzSWKx7duENpBPIB4HX0uLNoTz3YHusVt1pKiIiImdPgbYaKrYVs3nfZvuUgZLwejD7YJn9Y4Jj7PNcE6LN8BpZO/LctoQtLITJkzFefhnLzp1Ygd0E8KrlcrwfHciIl7sRGOh19ucXEREROUGB1sXlFuSydvdah5UG1uxaQ05B6R2+rG5Wmoc3dwivbaLaUMevzvkrqLAQpk6FsWMhNRULsAd/XuVyktv14L1PbiUhoeI3cwUFBZ2/GkVEpEbSa0n1pUDrQg4fP3xyeawTGxRszNiIzSi9DImvpy9toto4hNeW9Vvi43mBthouLIRp08wgu8OcxrAXf17jMmYEdmLU69fzn4fbntX0AqvV6rDVr4iISEXptaR6U6CtggzDIO1wmkN4TU5PJu1wWpn9QwJCSk0ZaBzaGKtb+TdGOGtFRTB9uhlkt20D4KA1gJeLO/ExF3NznwSS/9OdsDD/C1+LiIiI1EgKtFXA9gPbWbFthX3UNTk9mcyczDL7NgxpWCq8htcKP7f5rmejqAi++ALGjIGt5kYK2b5BjMrtwP8VtyMgtDbTx99Ir17NK7cuERERqXEUaKuAT5d9ymsLXnNoc7e60zK85cmVBqITaBPZhlq+tZxU5QnFxfDll2aQ3bwZgKLadXjX8wpG7GtBDp707duK99+/nuDgciznVa5LntyusGPHjhXaklekplq5ciWdOnXihhtuYP78+c4uR8Tp9FpSvSnQVgEdG3bkssaXOYTXFuEt8PKoQqsAFBfDjBnw0kuwaRMARnAwKzr14eZFdTic6U5oqB/TP7qRnj3P/6hsYWHheT+nSHU2YcIE+vbty+zZs9mzZw/169d3dkkiTqfXkupLgbYKuCX+Fm6Jv8XZZZTNZoOZM80gu2GD2VanDtmPPMb9qyL5+ttdANx4YxMmTryF0FA/JxYrIgDZ2dnMmDGDxYsXk5mZyeTJk3n++ecBeOmll/joo49Yu3YtwcHBANx4443k5OSwePFi3Ny0LrSIuB795pKylQTZuDjo29cMs7Vrw9ix/DxhMU0m+PP1ol14eVl5//3r+fbbvgqzIlXEzJkzCQsLo0OHDtx1111MnDgRwzAAeOGFF4iNjeWhhx4C4MMPP2TFihVMmTJFYVZEXJZ+e4kjmw2+/hratIE+fWD9eggKgpdewrZtO6OLOnNtr/+SkZFNixYh/PHHw/zrXx0q/6Y0ETmtCRMmcNdddwFw6623snfvXpYuXQqYSxdNnz6dxYsX89xzzzFkyBA+/PBDoqOjnVmyiMg50ZQDMdlsMHcujB4Na9aYbYGB8NRT8PjjHLZ5cc/dc/j++y0ADBx4Me+80w0fHw/n1SwipWzatIkVK1YwefJkAPz9/bnllluYMGECXbp0AaBhw4aMGzeOgQMH0qdPH/r16+e8gkVEzgON0NZ0hmEG2YsvhttuM8NsYCCMGAGpqTByJEk7cmnX7hO+/34L3t7uTJlyKx99dJPCrEgVNGHCBNq3b0+TJk3sbXfddRfffPMNR44csbf973//w2q1kpqaSlFRkTNKFRE5bxRoayrDgHnzzCDbsyckJ0NAALz4ornT1+jRULs2n3++hk6dJrJjRxYNG9Zm5coHuffeNpVebkBAAAEBAZV+XRFXUlRUxNSpU0uNuHbt2hVfX1++/PJLAGbMmMHs2bNZsmQJaWlpjBkzxhnlilQ6vZZUX5pyUNMYBsyfD6NGwZ9/mm3+/vDYY+b0ghN3PdtsBiNH/sLYscsAcxWDadN6Urv2Bdo69wysVisXX3xxpV9XxNV899137Nu3j1atWpGSkuLwtSuuuIIJEyZw00038cgjj/D6669z2WWXMWnSJG666Sauv/56Onbs6KTKRS48vZZUbxaj5NZXuWCKioqYPXs2AL169cLd3Qn/jzAMWLDADLKJiWabnx/8+9/w9NNQt669a25uIf37/5eZM9cB8NxznXn55Wtwc9ONXyJVWY8ePfjuu+/O2Oeqq67C09OTBQsW2G/mfOyxx/j+++9JTk7G31/bVIuI61GgrQRODbSGAYsWmUH299/NNl9f+Ne/4JlnICTEoXtGRja33PIVf/yxGw8PNz7++Cbuvz+h8uoVERERqSBNOaiuDAN+/NEMsitXmm0+PvDoozBkCISGlnrIpk0H6dZtOjt3HqFOHR9mz+7NlVfGVmrZZSkuLibxxKhy+/bttV2hiIhUmF5LqjcF2urGMGDxYhg5ElasMNu8vWHwYBg6FOrVK/Nhf/65h+7dP+fgwRyaNKnD/Pn9aNIkuBILP7O8vDxnlyAiIi5OryXVlwJtdWEY8MsvZpD99VezzdsbBg2CZ5+FsLDTPvSXX3Zw881fkZ1dwMUXh7NgwV2EhGjXLxEREXENCrTVwZIlZpD93//MYy8vGDgQnnsOwsPP+NA5czZw553fUFBQzFVXxfLf/95JQIDXha9ZRERE5DxRoHVl//ufGWSXLDGPPT1hwAAzyEZE/OPDZ8xI4a67ZlNcbNCzZzO++OI2vL31IyEiIiKuRenFFf36qxlkf/7ZPPb0hIcegmHDIDKyXKeYOXOdPczed18bPvvsZtzdtc+GiIiIuB4FWleyYoUZZH/6yTz28IAHH4Tnn4eoqHKfZtasdfTr9409zE6YcDNWq8KsiIiIuCYFWlfw229mkP3hB/PY3R0eeMAMsjExFTrVrFnr6NvX9cKsr6+vs0sQEREXp9eS6kuBtir74w8zyC5caB67u0P//vDCCxAbW+HTLViwhX79zGkG997rOmHWarXSoUMHZ5chIiIuTK8l1ZsCbVW0apUZZL//3jy2WuG++8wg27DhWZ1y5cp0brttJkVFNvr2bcXEia4RZkVERET+iQJtVfLnn+bOXiV7sVutcM898OKL0KjRWZ923br93HjjF+TmFtG9e2MmT75VYVZERESqDQXaqiApyQyy8+aZx25ucPfdMHw4NG58TqdOTz9Ct27TyczMo2PHSL7++g48PV1ru7/i4mL+/PNPAC6++GJtVygiIhWm15LqTYHWmVavNoPs3LnmsZsb9OtnBtmmTc/59NnZBfTo8SW7dx+jRYsQ5s/vh5+f5zmf1xlycnKcXYKIiLg4vZZUXwq0zrB2rRlkZ882jy0W6NsXRoyAiy46L5ew2Qzuums2q1fvo149PxYsuIs6dXzOy7lFREREqhIF2sp2990wY4b5ucUCffqYQbZ58/N6mWHDfmLevE14eVmZO/dOoqNrndfzi4iIiFQVCrSVYePGk5/PnWsG2TvuMINsy5bn/XJTpiTzxhsrAJg06RY6dizf7mEiIiIirki3uleGKVNOfn7rrbBmjTlKewHCbFLSXgYONFdJGD78Cvr2jTvv1xARERGpShRoK8OTT578fPp0aNXqglzmyJE87rhjFvn5xdx0U1NGjepyQa4jIiIiUpVoykFlCA294JcwDIP77/8v27ZlEhNTiylTbsXNzXLBr1tZvL29nV2CiIi4OL2WVF8KtNXEO+/8xpw5G/H0tPL1172r1YoGVquVjh07OrsMERFxYXotqd405aAaSEzczbPP/gTAO+90o127+k6uSERERKTyKNC6uJycQu6+ew5FRTbuuKMFjzzSztkliYiIiFQqTTlwcc8++yObNx+ifv0APvroJiyW6jNvtkRxcTHJyckAxMfHa7tCERGpML2WVG8KtC7shx+28cEHiYC53mx1mjf7d8eOHXN2CSIi4uL0WlJ9acqBizpyJI8HHvgvAP/6V3u6dm3k5IpEREREnEOB1kU9//xidu8+RuPGdXj99eucXY6IiIiI0yjQuqCVK9MZP34VAB9/fBO+vh5OrkhERETEeRRoXUxBQTEDBnyHYUD//vFcfXUDZ5ckIiIi4lQKtC5m3LgVpKTsp25dX8aN01QDEREREa1y4EJ27TrKyy8vA+Dtt7sSHOzr5Ioqj4eHplWIiMi50WtJ9aVA60Kef34xOTmFdO4cxd13t3Z2OZXGarXSuXNnZ5chIiIuTK8l1ZumHLiIxMTdTJu2BjC3t62OGyiIiIiInA0FWhdgGAZPPrkIgHvuaU379hFOrkhERESk6tCUAxfw9dfrWb48HR8fd1555Rpnl1PpiouLWbt2LQBxcXHarlBERCpMryXVmwJtFVdUZOPFF38BYMiQTkRGBjq5IufIyspydgkiIuLi9FpSfWnKQRX3+edr2Lz5EMHBPjzzTCdnlyMiIiJS5SjQVmGFhcW89NL/ABg6tDMBAV5OrkhERESk6lGgrcKmTFnN9u2ZhIb68eij7Z1djoiIiEiVpEBbRRUV2eybKDz3XGf8/DydXJGIiIhI1aRAW0XNmrWO1NQsQkJ8GTSonbPLEREREamytMpBFWQYBm+8sQKAxx67BB8fbdXn5qb/e4mIyLnRa0n1pUBbBf3003aSkzPw9fVg8GDNnbVarVxxxRXOLkNERFyYXkuqN/1XpQoqGZ196KEE6tTxcXI1IiIiIlWbAm0Vs2bNPn76aTtWq4Unn7zU2eWIiIiIVHmaclDFjB+fCEDPns2JjQ1ybjFVhM1mIyUlBYBWrVppDpSIiFSYXkuqNwXaKuTYsXymTzf3mX7kEa1sUMIwDA4fPmz/XEREpKL0WlK96b8nVcjnn68lO7uAiy4K5qqrYp1djoiIiIhLUKCtIgzDYPz4VQAMGtQOi8Xi5IpEREREXIMCbRXx22+7WLNmHz4+7tx3XxtnlyMiIiLiMhRoq4jJk5MB6N27JbVra6kuERERkfKqsTeFFRUVOeVaZV03P7+IuXM34OVl4d57W1Vqba6guLjYPoG/qKhIk/lFRKTC9FrimtzdyxdVLUYN/RudOXOms0sQERERkTPo3bt3ufppyoGIiIiIuLQaO0Jb2VMO5s2bB8DNN9/sMHyelZVHw4bvUlBQzG+/PUSrVqGVVpeIiIhIVVbeKQc1dg5teb9BF+K6p1577tzNHDtWRFxcKPHx9Z1Sk4iIiIgr05QDJ/vqK3MbvrvuinNyJSIiIiKuSYHWiTIzc1myJBWA229v4dxiRERERFyUAq0TfffdZoqLDeLiQmnUqI6zyxERERFxSQq0TjR37iYAbr21mZMrEREREXFdCrROkptbyMKFWwHo2VOBVkRERORsKdA6yU8/bScnp5CYmFrEx4c5uxwRERERl6VA6yQLFpijszfd1BSLxeLkakRERERclwKtkyxatA2Abt0aObkSEREREdemQOsEW7ceZvv2TDw83LjqqgbOLkdERETEpSnQOsEPP5ijs507R+Pv7+nkakRERERcmwKtE5RMN+jataGTKxEREZHyyM3NJSgoiODgYPLz851djvyNAm0lKyws5uefdwDQrVtjJ1cjIiJSs6Wmppbr5uxvvvmG2NhYIiMjmTt37oUvTCpEgbaSJSdnkJ1dQHCwj5brOo2FCxdy2WWX2f8nfNNNN7Ft2zZnlyUiIi7iQryOTJgwgX79+tGvXz8mTJjg8LUlS5bg6enJsmXL7G1vvPEGoaGh7Nu375yuK+WjQFvJVqxIB+Cyy6Jxc9NyXWU5fvw4Tz31FKtWrWLx4sW4ubnRs2dPbDabs0sTEREXcL5fR7Zt28b//vc/+vbtS9++ffn555/ZuXOn/etdunThiSee4J577uHIkSMkJSUxfPhwPvvsM+rVq3e+npacgcUwDMPZRVR3RUVFzJ49G4CvvrIxZ84mxo27jqef7uTkylzDwYMHCQkJYe3atbRq1crZ5YiIiIs50+tIamoqDRo04Exx6IUXXmD58uUsWbIEgCuvvJKrrrqKUaNG2fsUFBRwySWX0LRpU1JSUujcuTOffPLJhXg6UgaN0FayFSvSALj88hgnV1J1bdmyhb59+9KwYUMCAwOJjY0FIC0tzbmFiYiIS/in15GWLVvi7++Pv78/LVu2BLAf+/v7c/3119vPVVxczJQpU7jrrrvsbXfddReTJ092GPH19PTk888/55tvviEvL4933nmnEp6plHB3dgE1TVZWHr6+HiQkaP7s6fTo0YOYmBg+/fRT6tevj81mo1WrVhQUFDi7NBERcQH/9Dry/fffU1hYCMDu3bvp0qULycnJ9sf7+PjYP1+0aBEHDhzg9ttvt7fdcccd/Pvf/2bx4sVcd9119vYVK1YAcPjwYQ4fPoyfn9+FfJpyCgVaJ7j00kg8PKzOLqNKOnToEJs2beLTTz/l8ssvB+DXX391clUiIuIqyvM6EhNz8l1Sd3czCjVuXPbKQxMmTOD666+ndu3a9rbatWvTvXt3JkyYYA+027Zt48knn+TTTz9lxowZ3Hffffz000+4uenN8Mqg77ITXH55tLNLqLJq165NcHAwn3zyCVu3buXnn3/mqaeecnZZIiLiIs7n68iBAwf49ttvueSSS0hJSXH46NixI3PnzuXw4cMUFxdz9913061bN+6//34mTZrEmjVreOutt87zs5PT0QitE3TqFOXsEqosNzc3vvrqKx577DFatWrFRRddxHvvvUeXLl2cXZqIiLiA8/k6MnXqVAoLC3n++ed5/vnny+wzffp0srKy2LlzJ9999x0A4eHhfPLJJ/Tt25euXbvSpk2bc3lKUg5a5aASnLrKwb33bmTPniHUqePzD48SERERkfLQlINKFhtbW2FWRERE5DxSoK1kCQlaYFlERETkfFKgrWRarktERETk/FKgrWQJCeHOLkFERESkWlGgrQRZWbn2zzVCKyIiInJ+KdBWgqSkDPvnQUG6IUxERETkfFKgrQRJSXudXYKIiIhItaVAWwkuvVQbKYiIiIhcKAq0lUCBVkREROTCUaAVEREREZemQCsiIiIiLk2BVkRERERcmgKtiIiIiLg0BVoRERERcWkKtCIiIiLi0hRoRURERMSlKdCKiIiIiEtToBURERERl6ZAKyIiIiIuTYFWRERERFyaAq2IiIiIuDQFWhERERFxaQq0IiIiIuLSFGhFRERExKVZDMMwnF2EiIiIiMjZ0gitiIiIiLg0BVoRERERcWkKtCIiIiLi0hRoRURERMSlKdCKiIiIiEtToBURERERl6ZAKyIiIiIuTYFWRERERFyaAq2IiIiIuLT/BzsrcwDroaj9AAAAAElFTkSuQmCC\n"
                },
                "metadata": {}
              }
            ]
          }
        },
        "5683b3f8b2154628b80192be937d4898": {
          "model_module": "@jupyter-widgets/base",
          "model_name": "LayoutModel",
          "model_module_version": "1.2.0",
          "state": {
            "_model_module": "@jupyter-widgets/base",
            "_model_module_version": "1.2.0",
            "_model_name": "LayoutModel",
            "_view_count": null,
            "_view_module": "@jupyter-widgets/base",
            "_view_module_version": "1.2.0",
            "_view_name": "LayoutView",
            "align_content": null,
            "align_items": null,
            "align_self": null,
            "border": null,
            "bottom": null,
            "display": null,
            "flex": null,
            "flex_flow": null,
            "grid_area": null,
            "grid_auto_columns": null,
            "grid_auto_flow": null,
            "grid_auto_rows": null,
            "grid_column": null,
            "grid_gap": null,
            "grid_row": null,
            "grid_template_areas": null,
            "grid_template_columns": null,
            "grid_template_rows": null,
            "height": null,
            "justify_content": null,
            "justify_items": null,
            "left": null,
            "margin": null,
            "max_height": null,
            "max_width": null,
            "min_height": null,
            "min_width": null,
            "object_fit": null,
            "object_position": null,
            "order": null,
            "overflow": null,
            "overflow_x": null,
            "overflow_y": null,
            "padding": null,
            "right": null,
            "top": null,
            "visibility": null,
            "width": null
          }
        },
        "3b5d7e92b5bd4de8a0b96b9254758eab": {
          "model_module": "@jupyter-widgets/base",
          "model_name": "LayoutModel",
          "model_module_version": "1.2.0",
          "state": {
            "_model_module": "@jupyter-widgets/base",
            "_model_module_version": "1.2.0",
            "_model_name": "LayoutModel",
            "_view_count": null,
            "_view_module": "@jupyter-widgets/base",
            "_view_module_version": "1.2.0",
            "_view_name": "LayoutView",
            "align_content": null,
            "align_items": null,
            "align_self": null,
            "border": null,
            "bottom": null,
            "display": null,
            "flex": null,
            "flex_flow": null,
            "grid_area": null,
            "grid_auto_columns": null,
            "grid_auto_flow": null,
            "grid_auto_rows": null,
            "grid_column": null,
            "grid_gap": null,
            "grid_row": null,
            "grid_template_areas": null,
            "grid_template_columns": null,
            "grid_template_rows": null,
            "height": null,
            "justify_content": null,
            "justify_items": null,
            "left": null,
            "margin": null,
            "max_height": null,
            "max_width": null,
            "min_height": null,
            "min_width": null,
            "object_fit": null,
            "object_position": null,
            "order": null,
            "overflow": null,
            "overflow_x": null,
            "overflow_y": null,
            "padding": null,
            "right": null,
            "top": null,
            "visibility": null,
            "width": null
          }
        },
        "789550085e5a46a994f3419413926832": {
          "model_module": "@jupyter-widgets/controls",
          "model_name": "SliderStyleModel",
          "model_module_version": "1.5.0",
          "state": {
            "_model_module": "@jupyter-widgets/controls",
            "_model_module_version": "1.5.0",
            "_model_name": "SliderStyleModel",
            "_view_count": null,
            "_view_module": "@jupyter-widgets/base",
            "_view_module_version": "1.2.0",
            "_view_name": "StyleView",
            "description_width": "",
            "handle_color": null
          }
        },
        "11bce7ae1ec0484da4ff395c5ab97842": {
          "model_module": "@jupyter-widgets/base",
          "model_name": "LayoutModel",
          "model_module_version": "1.2.0",
          "state": {
            "_model_module": "@jupyter-widgets/base",
            "_model_module_version": "1.2.0",
            "_model_name": "LayoutModel",
            "_view_count": null,
            "_view_module": "@jupyter-widgets/base",
            "_view_module_version": "1.2.0",
            "_view_name": "LayoutView",
            "align_content": null,
            "align_items": null,
            "align_self": null,
            "border": null,
            "bottom": null,
            "display": null,
            "flex": null,
            "flex_flow": null,
            "grid_area": null,
            "grid_auto_columns": null,
            "grid_auto_flow": null,
            "grid_auto_rows": null,
            "grid_column": null,
            "grid_gap": null,
            "grid_row": null,
            "grid_template_areas": null,
            "grid_template_columns": null,
            "grid_template_rows": null,
            "height": null,
            "justify_content": null,
            "justify_items": null,
            "left": null,
            "margin": null,
            "max_height": null,
            "max_width": null,
            "min_height": null,
            "min_width": null,
            "object_fit": null,
            "object_position": null,
            "order": null,
            "overflow": null,
            "overflow_x": null,
            "overflow_y": null,
            "padding": null,
            "right": null,
            "top": null,
            "visibility": null,
            "width": null
          }
        },
        "a7652f5cb9154861b264ed6880ed10b0": {
          "model_module": "@jupyter-widgets/controls",
          "model_name": "ButtonStyleModel",
          "model_module_version": "1.5.0",
          "state": {
            "_model_module": "@jupyter-widgets/controls",
            "_model_module_version": "1.5.0",
            "_model_name": "ButtonStyleModel",
            "_view_count": null,
            "_view_module": "@jupyter-widgets/base",
            "_view_module_version": "1.2.0",
            "_view_name": "StyleView",
            "button_color": null,
            "font_weight": ""
          }
        },
        "1af93fb4aece497a8509d24c93be4d25": {
          "model_module": "@jupyter-widgets/base",
          "model_name": "LayoutModel",
          "model_module_version": "1.2.0",
          "state": {
            "_model_module": "@jupyter-widgets/base",
            "_model_module_version": "1.2.0",
            "_model_name": "LayoutModel",
            "_view_count": null,
            "_view_module": "@jupyter-widgets/base",
            "_view_module_version": "1.2.0",
            "_view_name": "LayoutView",
            "align_content": null,
            "align_items": null,
            "align_self": null,
            "border": null,
            "bottom": null,
            "display": null,
            "flex": null,
            "flex_flow": null,
            "grid_area": null,
            "grid_auto_columns": null,
            "grid_auto_flow": null,
            "grid_auto_rows": null,
            "grid_column": null,
            "grid_gap": null,
            "grid_row": null,
            "grid_template_areas": null,
            "grid_template_columns": null,
            "grid_template_rows": null,
            "height": null,
            "justify_content": null,
            "justify_items": null,
            "left": null,
            "margin": null,
            "max_height": null,
            "max_width": null,
            "min_height": null,
            "min_width": null,
            "object_fit": null,
            "object_position": null,
            "order": null,
            "overflow": null,
            "overflow_x": null,
            "overflow_y": null,
            "padding": null,
            "right": null,
            "top": null,
            "visibility": null,
            "width": null
          }
        },
        "1842c33df9ed4cee8e6d891b59f9eb0c": {
          "model_module": "@jupyter-widgets/controls",
          "model_name": "VBoxModel",
          "model_module_version": "1.5.0",
          "state": {
            "_dom_classes": [
              "widget-interact"
            ],
            "_model_module": "@jupyter-widgets/controls",
            "_model_module_version": "1.5.0",
            "_model_name": "VBoxModel",
            "_view_count": null,
            "_view_module": "@jupyter-widgets/controls",
            "_view_module_version": "1.5.0",
            "_view_name": "VBoxView",
            "box_style": "",
            "children": [
              "IPY_MODEL_30e9fb7f69964b538a76f89e5b795776",
              "IPY_MODEL_07f61347181c43f48af238a4cd1c04da",
              "IPY_MODEL_dbca16c4f8ec4af1be2c2b0b028ee9c3"
            ],
            "layout": "IPY_MODEL_7cd38734dbda4e3fa9eb7a7eac817212"
          }
        },
        "30e9fb7f69964b538a76f89e5b795776": {
          "model_module": "@jupyter-widgets/controls",
          "model_name": "FloatSliderModel",
          "model_module_version": "1.5.0",
          "state": {
            "_dom_classes": [],
            "_model_module": "@jupyter-widgets/controls",
            "_model_module_version": "1.5.0",
            "_model_name": "FloatSliderModel",
            "_view_count": null,
            "_view_module": "@jupyter-widgets/controls",
            "_view_module_version": "1.5.0",
            "_view_name": "FloatSliderView",
            "continuous_update": true,
            "description": "Q",
            "description_tooltip": null,
            "disabled": false,
            "layout": "IPY_MODEL_3a322e69ab5e409887578b9cc901a433",
            "max": 3,
            "min": 0.001,
            "orientation": "horizontal",
            "readout": true,
            "readout_format": ".2f",
            "step": 0.1,
            "style": "IPY_MODEL_ce64196b5dd94d1a8a884507e7c6c25c",
            "value": 3
          }
        },
        "07f61347181c43f48af238a4cd1c04da": {
          "model_module": "@jupyter-widgets/controls",
          "model_name": "ButtonModel",
          "model_module_version": "1.5.0",
          "state": {
            "_dom_classes": [],
            "_model_module": "@jupyter-widgets/controls",
            "_model_module_version": "1.5.0",
            "_model_name": "ButtonModel",
            "_view_count": null,
            "_view_module": "@jupyter-widgets/controls",
            "_view_module_version": "1.5.0",
            "_view_name": "ButtonView",
            "button_style": "",
            "description": "Run Interact",
            "disabled": false,
            "icon": "",
            "layout": "IPY_MODEL_66a46ef0440f462db3c9d1c5c2ae14ff",
            "style": "IPY_MODEL_0037aa392d374e0da4fe3b143d1791ea",
            "tooltip": ""
          }
        },
        "dbca16c4f8ec4af1be2c2b0b028ee9c3": {
          "model_module": "@jupyter-widgets/output",
          "model_name": "OutputModel",
          "model_module_version": "1.0.0",
          "state": {
            "_dom_classes": [],
            "_model_module": "@jupyter-widgets/output",
            "_model_module_version": "1.0.0",
            "_model_name": "OutputModel",
            "_view_count": null,
            "_view_module": "@jupyter-widgets/output",
            "_view_module_version": "1.0.0",
            "_view_name": "OutputView",
            "layout": "IPY_MODEL_6e3f419fa56048b497449255249c0fc6",
            "msg_id": "",
            "outputs": [
              {
                "output_type": "stream",
                "name": "stdout",
                "text": [
                  "m_sec= 15.75\n",
                  "m_tan= 6.75\n"
                ]
              },
              {
                "output_type": "display_data",
                "data": {
                  "text/plain": "<Figure size 800x500 with 1 Axes>",
                  "image/png": "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\n"
                },
                "metadata": {}
              }
            ]
          }
        },
        "7cd38734dbda4e3fa9eb7a7eac817212": {
          "model_module": "@jupyter-widgets/base",
          "model_name": "LayoutModel",
          "model_module_version": "1.2.0",
          "state": {
            "_model_module": "@jupyter-widgets/base",
            "_model_module_version": "1.2.0",
            "_model_name": "LayoutModel",
            "_view_count": null,
            "_view_module": "@jupyter-widgets/base",
            "_view_module_version": "1.2.0",
            "_view_name": "LayoutView",
            "align_content": null,
            "align_items": null,
            "align_self": null,
            "border": null,
            "bottom": null,
            "display": null,
            "flex": null,
            "flex_flow": null,
            "grid_area": null,
            "grid_auto_columns": null,
            "grid_auto_flow": null,
            "grid_auto_rows": null,
            "grid_column": null,
            "grid_gap": null,
            "grid_row": null,
            "grid_template_areas": null,
            "grid_template_columns": null,
            "grid_template_rows": null,
            "height": null,
            "justify_content": null,
            "justify_items": null,
            "left": null,
            "margin": null,
            "max_height": null,
            "max_width": null,
            "min_height": null,
            "min_width": null,
            "object_fit": null,
            "object_position": null,
            "order": null,
            "overflow": null,
            "overflow_x": null,
            "overflow_y": null,
            "padding": null,
            "right": null,
            "top": null,
            "visibility": null,
            "width": null
          }
        },
        "3a322e69ab5e409887578b9cc901a433": {
          "model_module": "@jupyter-widgets/base",
          "model_name": "LayoutModel",
          "model_module_version": "1.2.0",
          "state": {
            "_model_module": "@jupyter-widgets/base",
            "_model_module_version": "1.2.0",
            "_model_name": "LayoutModel",
            "_view_count": null,
            "_view_module": "@jupyter-widgets/base",
            "_view_module_version": "1.2.0",
            "_view_name": "LayoutView",
            "align_content": null,
            "align_items": null,
            "align_self": null,
            "border": null,
            "bottom": null,
            "display": null,
            "flex": null,
            "flex_flow": null,
            "grid_area": null,
            "grid_auto_columns": null,
            "grid_auto_flow": null,
            "grid_auto_rows": null,
            "grid_column": null,
            "grid_gap": null,
            "grid_row": null,
            "grid_template_areas": null,
            "grid_template_columns": null,
            "grid_template_rows": null,
            "height": null,
            "justify_content": null,
            "justify_items": null,
            "left": null,
            "margin": null,
            "max_height": null,
            "max_width": null,
            "min_height": null,
            "min_width": null,
            "object_fit": null,
            "object_position": null,
            "order": null,
            "overflow": null,
            "overflow_x": null,
            "overflow_y": null,
            "padding": null,
            "right": null,
            "top": null,
            "visibility": null,
            "width": null
          }
        },
        "ce64196b5dd94d1a8a884507e7c6c25c": {
          "model_module": "@jupyter-widgets/controls",
          "model_name": "SliderStyleModel",
          "model_module_version": "1.5.0",
          "state": {
            "_model_module": "@jupyter-widgets/controls",
            "_model_module_version": "1.5.0",
            "_model_name": "SliderStyleModel",
            "_view_count": null,
            "_view_module": "@jupyter-widgets/base",
            "_view_module_version": "1.2.0",
            "_view_name": "StyleView",
            "description_width": "",
            "handle_color": null
          }
        },
        "66a46ef0440f462db3c9d1c5c2ae14ff": {
          "model_module": "@jupyter-widgets/base",
          "model_name": "LayoutModel",
          "model_module_version": "1.2.0",
          "state": {
            "_model_module": "@jupyter-widgets/base",
            "_model_module_version": "1.2.0",
            "_model_name": "LayoutModel",
            "_view_count": null,
            "_view_module": "@jupyter-widgets/base",
            "_view_module_version": "1.2.0",
            "_view_name": "LayoutView",
            "align_content": null,
            "align_items": null,
            "align_self": null,
            "border": null,
            "bottom": null,
            "display": null,
            "flex": null,
            "flex_flow": null,
            "grid_area": null,
            "grid_auto_columns": null,
            "grid_auto_flow": null,
            "grid_auto_rows": null,
            "grid_column": null,
            "grid_gap": null,
            "grid_row": null,
            "grid_template_areas": null,
            "grid_template_columns": null,
            "grid_template_rows": null,
            "height": null,
            "justify_content": null,
            "justify_items": null,
            "left": null,
            "margin": null,
            "max_height": null,
            "max_width": null,
            "min_height": null,
            "min_width": null,
            "object_fit": null,
            "object_position": null,
            "order": null,
            "overflow": null,
            "overflow_x": null,
            "overflow_y": null,
            "padding": null,
            "right": null,
            "top": null,
            "visibility": null,
            "width": null
          }
        },
        "0037aa392d374e0da4fe3b143d1791ea": {
          "model_module": "@jupyter-widgets/controls",
          "model_name": "ButtonStyleModel",
          "model_module_version": "1.5.0",
          "state": {
            "_model_module": "@jupyter-widgets/controls",
            "_model_module_version": "1.5.0",
            "_model_name": "ButtonStyleModel",
            "_view_count": null,
            "_view_module": "@jupyter-widgets/base",
            "_view_module_version": "1.2.0",
            "_view_name": "StyleView",
            "button_color": null,
            "font_weight": ""
          }
        },
        "6e3f419fa56048b497449255249c0fc6": {
          "model_module": "@jupyter-widgets/base",
          "model_name": "LayoutModel",
          "model_module_version": "1.2.0",
          "state": {
            "_model_module": "@jupyter-widgets/base",
            "_model_module_version": "1.2.0",
            "_model_name": "LayoutModel",
            "_view_count": null,
            "_view_module": "@jupyter-widgets/base",
            "_view_module_version": "1.2.0",
            "_view_name": "LayoutView",
            "align_content": null,
            "align_items": null,
            "align_self": null,
            "border": null,
            "bottom": null,
            "display": null,
            "flex": null,
            "flex_flow": null,
            "grid_area": null,
            "grid_auto_columns": null,
            "grid_auto_flow": null,
            "grid_auto_rows": null,
            "grid_column": null,
            "grid_gap": null,
            "grid_row": null,
            "grid_template_areas": null,
            "grid_template_columns": null,
            "grid_template_rows": null,
            "height": null,
            "justify_content": null,
            "justify_items": null,
            "left": null,
            "margin": null,
            "max_height": null,
            "max_width": null,
            "min_height": null,
            "min_width": null,
            "object_fit": null,
            "object_position": null,
            "order": null,
            "overflow": null,
            "overflow_x": null,
            "overflow_y": null,
            "padding": null,
            "right": null,
            "top": null,
            "visibility": null,
            "width": null
          }
        }
      }
    }
  },
  "nbformat": 4,
  "nbformat_minor": 5
}