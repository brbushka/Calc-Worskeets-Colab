{
  "cells": [
    {
      "cell_type": "markdown",
      "metadata": {
        "id": "view-in-github",
        "colab_type": "text"
      },
      "source": [
        "<a href=\"https://colab.research.google.com/github/brbushka/Calc-Worskeets-Colab/blob/main/Intro_to_Derivatives_New.ipynb\" target=\"_parent\"><img src=\"https://colab.research.google.com/assets/colab-badge.svg\" alt=\"Open In Colab\"/></a>"
      ]
    },
    {
      "cell_type": "markdown",
      "id": "b4e37ad3",
      "metadata": {
        "id": "b4e37ad3"
      },
      "source": [
        "#   <span style='color:navy'> THE DERIVATIVE </span>\n",
        "\n",
        "<br>\n",
        "As we will see, the recurring theme in calculus involves addressing challenging problems by decomposing them into smaller problems and utilizing our existing knowledge to solve these simpler parts.\n",
        "\n",
        "### <span style='color:navy'> Goal: understand the limit definition of the derivative. </span>\n",
        "\n",
        "The **derivative** is a mathematical tool that gives us the rate at which one quantitiy changes relative to another at a given instant. The derivative gives us:\n",
        "- the instantaneous rate of change of $f$ at a given point.\n",
        "- the slope of the tangent line to the graph of $f$ at a given point (the slopes of the tangent lines as they change along f are the values of a new function, called the derivative function)."
      ]
    },
    {
      "cell_type": "markdown",
      "id": "32041ce3",
      "metadata": {
        "id": "32041ce3"
      },
      "source": [
        "---"
      ]
    },
    {
      "cell_type": "markdown",
      "id": "08ffa999",
      "metadata": {
        "id": "08ffa999"
      },
      "source": [
        "Recall:\n",
        "\n",
        "<br>1. The slope of a line is given by\n",
        "$$m=\\dfrac{y_2-y_1}{x_2-x_1},$$ where $(x_1,y_1)$, and $(x_2,y_2)$ are two distinct points on the line.\n",
        "\n",
        "<br>\n",
        "2. We say that the slope is a measure of the *steepness* of the line and we interpret it as the rate of change of $y$ with respect to $x$ (how does $y$ change, when we change $x$).\n",
        "\n",
        "<br>\n",
        "3. The average rate of change of a function on an interval is given by the slope of the <b>secant line</b>, passing through the endpoints of that interval. So, the average rate of change of $f$ on the interval $[a,b]$ is given by:\n",
        "$$m_{sec} = \\dfrac{f(b)-f(a)}{b-a}$$"
      ]
    },
    {
      "cell_type": "markdown",
      "id": "89995249",
      "metadata": {
        "id": "89995249"
      },
      "source": [
        "---"
      ]
    },
    {
      "cell_type": "markdown",
      "id": "4b803f5a",
      "metadata": {
        "id": "4b803f5a"
      },
      "source": [
        "Our task now is to use this previous knowledge to determine the derivative of a function $f$, at (say) a point $P:(a,f(a))$. The figure below shows a graph of a functon, its tangent line at the point $P$, and a secant line passing through the points $P$ and $Q$. The figure is interactive so we can investigate what happens as we move the value of $x$ closer and closer to $a$."
      ]
    },
    {
      "cell_type": "markdown",
      "id": "2b57d0ca",
      "metadata": {
        "id": "2b57d0ca"
      },
      "source": [
        "---"
      ]
    },
    {
      "cell_type": "code",
      "execution_count": null,
      "id": "6719091d",
      "metadata": {
        "id": "6719091d"
      },
      "outputs": [],
      "source": [
        "#Import the necessary libraries\n",
        "import numpy as np\n",
        "import matplotlib.pyplot as plt\n",
        "from ipywidgets import interact, interact_manual, FloatSlider\n",
        "import sympy as sp"
      ]
    },
    {
      "cell_type": "code",
      "execution_count": null,
      "id": "52cbcc4c",
      "metadata": {
        "id": "52cbcc4c",
        "outputId": "a4c24e89-e95f-4238-eba3-8e9b3c1b36e4",
        "colab": {
          "referenced_widgets": [
            "06dc589132bd40ab87d20d01e1f8c902"
          ]
        }
      },
      "outputs": [
        {
          "data": {
            "application/vnd.jupyter.widget-view+json": {
              "model_id": "06dc589132bd40ab87d20d01e1f8c902",
              "version_major": 2,
              "version_minor": 0
            },
            "text/plain": [
              "interactive(children=(FloatSlider(value=5.0, description='Q', max=8.0, min=0.5), Button(description='Run Inter…"
            ]
          },
          "metadata": {},
          "output_type": "display_data"
        },
        {
          "data": {
            "text/plain": [
              "<function __main__.secant_plot(Q)>"
            ]
          },
          "execution_count": 8,
          "metadata": {},
          "output_type": "execute_result"
        }
      ],
      "source": [
        "# Define the function\n",
        "def f(x):\n",
        "    return 10*np.log(5*x+1/2)\n",
        "\n",
        "# Define the range of x values\n",
        "x = np.linspace(0.001, 9.5, 1000)\n",
        "\n",
        "# Define the fixed point P\n",
        "P = 1\n",
        "y_P = f(P)\n",
        "\n",
        "# Define the movable point Q using a slider\n",
        "Q_slider = FloatSlider(value=5, min=0.5, max=8, step=0.1, description='Q')\n",
        "\n",
        "\n",
        "# Define a function to update the plot of the secant line based on the position of Q\n",
        "def secant_plot(Q):\n",
        "    y_Q = f(Q)\n",
        "\n",
        "    plt.figure(figsize=(8, 5))\n",
        "    plt.plot(x, f(x), label='Function', color='navy')\n",
        "\n",
        "# The slope of the secant line through the points P:(P,Y_P) and Q:(Q,Y_Q)\n",
        "    m_sec = (y_P - y_Q)/(P-Q)\n",
        "# The y-intercept of the secant line through the points P:(P,Y_P) and Q:(Q,Y_Q)\n",
        "    b_sec = (Q * y_P - y_Q * P) / (Q - P)\n",
        "    plt.plot([0.1, 9.5], [m_sec * 0.1 + b_sec, m_sec * 9.5 + b_sec], color='darkgreen', linestyle='-', label='Secant Line')\n",
        "    plt.plot([P, Q], [y_P, y_Q], 'o')\n",
        "\n",
        "# Define the symbolic variable and the function symbollically\n",
        "    x_sym=sp.symbols('x')\n",
        "    f_sym= 10*sp.log(5*x_sym+1/2)\n",
        "\n",
        "\n",
        "#---------------------------------------------------------------------------------------------------------\n",
        "\n",
        "# Find the derivative symbollically\n",
        "    f_prime_sym=sp.diff(f_sym,x_sym)\n",
        "# Converts the symbolic expression into a Python function (to evaluate it at a large number of points)\n",
        "    f_prime=sp.lambdify(x_sym,f_prime_sym)\n",
        "\n",
        "#Define the range od x values around P\n",
        "    #x=np.linspace(0.1,10,100)\n",
        "\n",
        "#Calculate the slope of the tangent line at P\n",
        "    m_tan=f_prime(P)\n",
        "    tangent_line=m_tan*(x-P)+y_P\n",
        "\n",
        "# Plot the tangent line\n",
        "    plt.plot(x,tangent_line,'r-', label='Tangent Line at P')\n",
        "\n",
        "#----------------------------------------------------------------------------------------------------------\n",
        "#Plotting the horizontal and vertical segments\n",
        "    y_horizontal = y_P  # Y-coordinate of the horizontal line\n",
        "\n",
        "    # Define the value of a\n",
        "    #a = 5\n",
        "    # Find the corresponding y-coordinate at x = a\n",
        "    #y_seg_end = np.interp(P, x, f(P))\n",
        "    #plt.plot([0, a], [y_a, y_a], color='r', linestyle='--', label='Line Segment')\n",
        "\n",
        "    plt.plot([0, 1], [y_P, y_P], color='gray', linestyle='--', alpha=0.5)\n",
        "    plt.plot([P, Q], [y_P, y_P], color='gray', linestyle='-', alpha=0.5)\n",
        "    plt.plot([0, Q], [y_Q, y_Q], color='gray', linestyle='--', alpha=0.5)\n",
        "\n",
        "\n",
        "    plt.plot([Q, Q], [y_P, y_Q], color='gray', linestyle='-', alpha=0.5)\n",
        "    plt.plot([P, P], [0, y_P], color='gray', linestyle='--', alpha=0.5)\n",
        "    plt.plot([Q, Q], [0, y_P], color='gray', linestyle='--', alpha=0.5)\n",
        "\n",
        "#Plotting the axis\n",
        "    plt.axvline(x=0, color='darkgray', linestyle='-')\n",
        "    plt.annotate('y', xy=(0, 99), xytext=(-0.5, 99), arrowprops=dict(arrowstyle='->'))\n",
        "    #plt.annotate('', xy=(0, 99), xytext=(0, 0), arrowprops=dict(arrowstyle='->'))\n",
        "    #plt.arrow(0, 0, 0, 100, width=.1, edgecolor='black',facecolor='black',linestyle='--',linewidth=0.1)\n",
        "\n",
        "    plt.axhline(y=0, color='darkgray', linestyle='-')\n",
        "    plt.annotate('', xy=(9.5, 0), xytext=(10, 0), arrowprops=dict(arrowstyle='<-'))\n",
        "\n",
        "    plt.annotate('P', xy=(P, y_P), xytext=(P - 0.1, y_P + 3))\n",
        "    plt.annotate('Q', xy=(Q, y_Q), xytext=(Q - 0.1, y_Q + 3))\n",
        "\n",
        "    plt.annotate('a', xy=(P, 0), xytext=(P - 0.1, -5))\n",
        "    plt.annotate('x', xy=(Q, 0), xytext=(Q - 0.1, -5))\n",
        "\n",
        "    plt.annotate('f(a)', xy=(0, f(P)), xytext=(- 0.5, f(P)))\n",
        "    plt.annotate('f(x)', xy=(0, f(Q)), xytext=(- 0.5, f(Q)))\n",
        "\n",
        "    plt.annotate('x-a', xy=((P + Q)/2, y_P), xytext=((P + Q)/2, y_P - 5))\n",
        "    plt.annotate('f(x)-f(a)', xy=(Q, (y_P + y_Q)/2), xytext=(Q+0.1, (y_P + y_Q)/2))\n",
        "\n",
        "    # Add a label with a formula\n",
        "    #formula = r'$m_sec = \\dfrac{f(x)-f(a)}{x-a}$'\n",
        "    #plt.text(5, 0.8, formula, fontsize=14, color='g')\n",
        "#----------------------------------------------------------------------------------------------------------\n",
        "\n",
        "    plt.xlabel('x')\n",
        "    plt.ylabel('y')\n",
        "    plt.title('Interactive Figure 1')\n",
        "    plt.legend()\n",
        "    plt.grid(False)\n",
        "\n",
        "# Remove the box around the plot\n",
        "    plt.axis('off')\n",
        "    plt.show()\n",
        "\n",
        "# Interact with the slider to update the plot\n",
        "interact_manual(secant_plot, Q=Q_slider)\n"
      ]
    },
    {
      "cell_type": "markdown",
      "id": "d34c6e71",
      "metadata": {
        "id": "d34c6e71"
      },
      "source": [
        "As the points $P$ and $Q$ get closer and closer together, the secant line becomes more and more similar to the tangent line, and the slopes of the secant lines approach the slope of the tangent line. This means that as the two points get closer and closer together, the average rate of change of the function between the two points approaches the instantaneous rate of change of the function as P. We say that the slope of the tangent line represents the limiting value of the slopes of the secant lines as the interval between the two points approaches zero."
      ]
    },
    {
      "cell_type": "markdown",
      "id": "2e8949bf",
      "metadata": {
        "id": "2e8949bf"
      },
      "source": [
        "Therefore, the **slope of the tangent line** to $f$ at $P(a,f(a))$ or the **instantaneous rate of change** of $f$ at $P(a,f(a))$ is given by\n",
        "\n",
        "<br>\n",
        "$$m_{tan}=\\displaystyle{\\dfrac{f(x)-f(a)}{x-a}}.$$"
      ]
    },
    {
      "cell_type": "markdown",
      "id": "877b8aec",
      "metadata": {
        "id": "877b8aec"
      },
      "source": [
        "---\n",
        "\n",
        "We can relabel Figure 1 above as follows:"
      ]
    },
    {
      "cell_type": "code",
      "execution_count": null,
      "id": "4294de00",
      "metadata": {
        "id": "4294de00",
        "outputId": "02eac3d0-1195-45d8-d20d-334d137b4a46",
        "colab": {
          "referenced_widgets": [
            "8a0c957b297c43928c34eda8c77a7ff2"
          ]
        }
      },
      "outputs": [
        {
          "data": {
            "application/vnd.jupyter.widget-view+json": {
              "model_id": "8a0c957b297c43928c34eda8c77a7ff2",
              "version_major": 2,
              "version_minor": 0
            },
            "text/plain": [
              "interactive(children=(FloatSlider(value=5.0, description='Δx', max=5.0, min=0.01), Button(description='Run Int…"
            ]
          },
          "metadata": {},
          "output_type": "display_data"
        },
        {
          "data": {
            "text/plain": [
              "<function __main__.secant_plot(h)>"
            ]
          },
          "execution_count": 9,
          "metadata": {},
          "output_type": "execute_result"
        }
      ],
      "source": [
        "# Define the function\n",
        "def f(x):\n",
        "    return 10*np.log(5*x+1/2)\n",
        "\n",
        "# Define the range of x values\n",
        "x = np.linspace(0.001, 7, 1000)\n",
        "\n",
        "# Define the fixed point P\n",
        "P = 1\n",
        "y_P = f(P)\n",
        "\n",
        "# Define the Δx slider (Δx=h)\n",
        "h_slider = FloatSlider(value=5, min=0.01, max=5, step=0.1, description='Δx')\n",
        "# Define the movable point Q using a slider\n",
        "#Q_slider = FloatSlider(value=5, min=0.5, max=8, step=0.1, description='Q')\n",
        "\n",
        "\n",
        "# Define a function to update the plot of the secant line based on the position of Q\n",
        "def secant_plot(h):\n",
        "    Q = P + h\n",
        "    y_Q = f(Q)\n",
        "\n",
        "    plt.figure(figsize=(8, 5))\n",
        "    plt.plot(x, f(x), label='Function', color='navy')\n",
        "\n",
        "# The slope of the secant line through the points P:(P,Y_P) and Q:(Q,Y_Q)\n",
        "    m_sec = (y_P - y_Q)/(P-Q)\n",
        "# The y-intercept of the secant line through the points P:(P,Y_P) and Q:(Q,Y_Q)\n",
        "    b_sec = (Q * y_P - y_Q * P) / (Q - P)\n",
        "    #CHANGES HERE FROM 7 TO 9.5\n",
        "    plt.plot([0.1, 7], [m_sec * 0.1 + b_sec, m_sec * 7 + b_sec], color='darkgreen', linestyle='-', label='Secant Line')\n",
        "    plt.plot([P, Q], [y_P, y_Q], 'o')\n",
        "\n",
        "# Define the symbolic variable and the function symbollically\n",
        "    x_sym=sp.symbols('x')\n",
        "    f_sym= 10*sp.log(5*x_sym+1/2)\n",
        "\n",
        "\n",
        "#---------------------------------------------------------------------------------------------------------\n",
        "\n",
        "# Find the derivative symbollically\n",
        "    f_prime_sym=sp.diff(f_sym,x_sym)\n",
        "# Converts the symbolic expression into a Python function (to evaluate it at a large number of points)\n",
        "    f_prime=sp.lambdify(x_sym,f_prime_sym)\n",
        "\n",
        "#Define the range od x values around P\n",
        "    #x=np.linspace(0.1,10,100)\n",
        "\n",
        "#Calculate the slope of the tangent line at P\n",
        "    m_tan=f_prime(P)\n",
        "    tangent_line=m_tan*(x-P)+y_P\n",
        "\n",
        "# Plot the tangent line\n",
        "    plt.plot(x,tangent_line,'r-', label='Tangent Line at P')\n",
        "\n",
        "#----------------------------------------------------------------------------------------------------------\n",
        "#Plotting the horizontal and vertical segments\n",
        "    y_horizontal = y_P  # Y-coordinate of the horizontal line\n",
        "\n",
        "\n",
        "    plt.plot([0, 1], [y_P, y_P], color='gray', linestyle='--', alpha=0.5)\n",
        "    plt.plot([P, Q], [y_P, y_P], color='gray', linestyle='-', alpha=0.5)\n",
        "    plt.plot([0, Q], [y_Q, y_Q], color='gray', linestyle='--', alpha=0.5)\n",
        "\n",
        "\n",
        "    plt.plot([Q, Q], [y_P, y_Q], color='gray', linestyle='-', alpha=0.5)\n",
        "    plt.plot([P, P], [0, y_P], color='gray', linestyle='--', alpha=0.5)\n",
        "    plt.plot([Q, Q], [0, y_P], color='gray', linestyle='--', alpha=0.5)\n",
        "\n",
        "#Plotting the axis\n",
        "    plt.axvline(x=0, color='darkgray', linestyle='-')\n",
        "    #plt.annotate('y', xy=(0, 70), xytext=(-0.5, 70), arrowprops=dict(arrowstyle='->'))\n",
        "    #plt.annotate('', xy=(0, 99), xytext=(0, 0), arrowprops=dict(arrowstyle='->'))\n",
        "    #plt.arrow(0, 0, 0, 100, width=.1, edgecolor='black',facecolor='black',linestyle='--',linewidth=0.1)\n",
        "\n",
        "    plt.axhline(y=0, color='darkgray', linestyle='-')\n",
        "    #plt.annotate('x', xy=(7, 0), xytext=(8, 0), arrowprops=dict(arrowstyle='<-'))\n",
        "\n",
        "    plt.annotate('P', xy=(P, y_P), xytext=(P - 0.1, y_P + 3))\n",
        "    plt.annotate('Q', xy=(Q, y_Q), xytext=(Q - 0.1, y_Q + 3))\n",
        "\n",
        "    plt.annotate('a', xy=(P, 0), xytext=(P - 0.1, -5))\n",
        "    plt.annotate('a+Δx', xy=(Q, 0), xytext=(Q - 0.1, -5))\n",
        "\n",
        "    plt.annotate('f(a)', xy=(0, f(P)), xytext=(- 1, f(P)))\n",
        "    plt.annotate('f(a+Δx)', xy=(0, f(Q)), xytext=(- 1, f(Q)))\n",
        "\n",
        "    plt.annotate('Δx', xy=((P + Q)/2, y_P), xytext=((P + Q)/2, y_P - 5))\n",
        "    plt.annotate('f(a+Δx)-f(a)', xy=(Q, (y_P + y_Q)/2), xytext=(Q+0.1, (y_P + y_Q)/2))\n",
        "\n",
        "    # Add a label with a formula\n",
        "    #formula = r'$m_sec = \\dfrac{f(x)-f(a)}{x-a}$'\n",
        "    #plt.text(5, 0.8, formula, fontsize=14, color='g')\n",
        "#----------------------------------------------------------------------------------------------------------\n",
        "\n",
        "    plt.xlabel('x')\n",
        "    plt.ylabel('y')\n",
        "    plt.title('Interactive Figure 2')\n",
        "    plt.legend()\n",
        "    plt.grid(False)\n",
        "\n",
        "# Remove the box around the plot\n",
        "    plt.axis('off')\n",
        "    plt.show()\n",
        "\n",
        "# Interact with the slider to update the plot\n",
        "interact_manual(secant_plot, h=h_slider)"
      ]
    },
    {
      "cell_type": "markdown",
      "id": "1f3bcb3f",
      "metadata": {
        "id": "1f3bcb3f"
      },
      "source": [
        "In Figure 2, we let $(a,f(a))$ be the coordinates of the point $P$ and $(a+\\Delta x, f(a+\\Delta x))$ be the coordinates of the point $Q$. Then the **slope of the secant line** through $P$ and $Q$ (or the **average rate of change** of $f$ between $P$ and $Q$) is given by\n",
        "<br>\n",
        "\n",
        "$$m_{sec}=\\dfrac{f(a+\\Delta x)-f(a)}{a+\\Delta x - a}=\\dfrac{f(a+\\Delta x)-f(a)}{\\Delta x} $$\n",
        "\n",
        "<br>\n",
        "\n",
        "and the **slope of the tangent line** to $f$ at $P$ (or the **instantaneous rate of change** of $f$ between $P$) is\n",
        "<br>\n",
        "\n",
        "$$m_{tan}=\\displaystyle{\\lim_{\\Delta x\\rightarrow 0}{\\dfrac{f(a+\\Delta x)-f(a)}{\\Delta x }}} $$\n",
        "\n",
        "<br>"
      ]
    },
    {
      "cell_type": "markdown",
      "id": "60ee4ab6",
      "metadata": {
        "id": "60ee4ab6"
      },
      "source": [
        "---"
      ]
    },
    {
      "cell_type": "markdown",
      "id": "fd29c022",
      "metadata": {
        "id": "fd29c022"
      },
      "source": [
        "The above limit gives us the slope of $f$ at one fixed point $P$ on the curve. If we vary this point along the curve, the tangent line will also vary, and so does its slope. Because of this, the slope of the tangent line for $f$ is itself a function of $x$, which we call **the derivative** of $f$ and we label it as $f'(x)$."
      ]
    },
    {
      "cell_type": "markdown",
      "id": "26a59f0a",
      "metadata": {
        "id": "26a59f0a"
      },
      "source": [
        "---"
      ]
    },
    {
      "cell_type": "markdown",
      "id": "fb72355b",
      "metadata": {
        "id": "fb72355b"
      },
      "source": [
        "<font size=\"3\"><span style='color:brown'> <b>Definition.</b></span></font> The **derivative** of $f$ is\n",
        "<br>\n",
        "$$f'(x)=\\displaystyle{\\lim_{\\Delta x\\rightarrow 0}{\\dfrac{f(x+\\Delta x)-f(x)}{\\Delta x }}} $$\n",
        "<br>\n",
        "\n",
        "provided that the limit exists.\n"
      ]
    },
    {
      "cell_type": "markdown",
      "id": "1d5821bd",
      "metadata": {
        "id": "1d5821bd"
      },
      "source": [
        "---"
      ]
    },
    {
      "cell_type": "markdown",
      "id": "90b8f913",
      "metadata": {
        "id": "90b8f913"
      },
      "source": [
        "<font size=\"3\"><span style='color:green'> <b>Example.</b></span></font> Let's look at a specific example. Use the slider to change the position of the point $Q$ and observe how the value the $m_{sec}$ and $m_{tan}$ compare as the two points get closer together."
      ]
    },
    {
      "cell_type": "code",
      "execution_count": null,
      "id": "b03c3240",
      "metadata": {
        "id": "b03c3240",
        "outputId": "98038025-0e89-4fbd-e27f-bc93d9f693a1",
        "colab": {
          "referenced_widgets": [
            "52b3591a98ee4e12abdb19a8acbbf6ae"
          ]
        }
      },
      "outputs": [
        {
          "data": {
            "application/vnd.jupyter.widget-view+json": {
              "model_id": "52b3591a98ee4e12abdb19a8acbbf6ae",
              "version_major": 2,
              "version_minor": 0
            },
            "text/plain": [
              "interactive(children=(FloatSlider(value=3.0, description='Q', max=3.0, min=0.001), Button(description='Run Int…"
            ]
          },
          "metadata": {},
          "output_type": "display_data"
        },
        {
          "data": {
            "text/plain": [
              "<function __main__.secant_plot(Q)>"
            ]
          },
          "execution_count": 10,
          "metadata": {},
          "output_type": "execute_result"
        }
      ],
      "source": [
        "#Import the necessary libraries\n",
        "#import numpy as np\n",
        "#import matplotlib.pyplot as plt\n",
        "#from ipywidgets import interact, interact_manual, FloatSlider\n",
        "#import sympy as sp\n",
        "\n",
        "# Define the function\n",
        "def g(x):\n",
        "    return x**3+5\n",
        "\n",
        "# Define the range of x values\n",
        "#x = np.linspace(P - 2, P + 2, 100)\n",
        "x = np.linspace(-1, 4.5, 1000)\n",
        "\n",
        "# Define the fixed point P\n",
        "P = 1.5\n",
        "y_P = g(P)\n",
        "\n",
        "# Define the movable point Q using a slider\n",
        "Q_slider = FloatSlider(value=4, min=0.001, max=3, step=0.1, description='Q')\n",
        "\n",
        "\n",
        "# Define a function to update the plot of the secant line based on the position of Q\n",
        "def secant_plot(Q):\n",
        "    y_Q = g(Q)\n",
        "\n",
        "    plt.figure(figsize=(8, 5))\n",
        "    plt.plot(x, g(x), label='Function', color='navy')\n",
        "\n",
        "# The slope of the secant line through the points P:(P,Y_P) and Q:(Q,Y_Q)\n",
        "    m_sec = (y_P - y_Q)/(P-Q)\n",
        "# The y-intercept of the secant line through the points P:(P,Y_P) and Q:(Q,Y_Q)\n",
        "    b_sec = (Q * y_P - y_Q * P) / (Q - P)\n",
        "    plt.plot([0.01, 4.5], [m_sec * 0.01 + b_sec, m_sec * 4.5 + b_sec], color='darkgreen', linestyle='-', label='Secant Line')\n",
        "    plt.plot([P, Q], [y_P, y_Q], 'o')\n",
        "    print('m_sec=',m_sec)\n",
        "# Define the symbolic variable and the function symbollically\n",
        "    x_sym=sp.symbols('x')\n",
        "    g_sym= x_sym**3+5\n",
        "\n",
        "\n",
        "#---------------------------------------------------------------------------------------------------------\n",
        "\n",
        "# Find the derivative symbollically\n",
        "    g_prime_sym=sp.diff(g_sym,x_sym)\n",
        "# Converts the symbolic expression into a Python function (to evaluate it at a large number of points)\n",
        "    g_prime=sp.lambdify(x_sym,g_prime_sym)\n",
        "\n",
        "#Define the range od x values around P\n",
        "    #x=np.linspace(0.1,10,100)\n",
        "\n",
        "#Calculate the slope of the tangent line at P\n",
        "    m_tan=g_prime(P)\n",
        "    print('m_tan=',m_tan)\n",
        "    tangent_line=m_tan*(x-P)+y_P\n",
        "\n",
        "# Plot the tangent line\n",
        "    plt.plot(x,tangent_line,'r-', label='Tangent Line at P')\n",
        "\n",
        "#----------------------------------------------------------------------------------------------------------\n",
        "#Plotting the horizontal and vertical segments\n",
        "    y_horizontal = y_P  # Y-coordinate of the horizontal line\n",
        "\n",
        "    plt.plot([0, P], [y_P, y_P], color='gray', linestyle='--', alpha=0.5)\n",
        "    plt.plot([P, Q], [y_P, y_P], color='gray', linestyle='-', alpha=0.5)\n",
        "    plt.plot([0, Q], [y_Q, y_Q], color='gray', linestyle='--', alpha=0.5)\n",
        "\n",
        "\n",
        "    plt.plot([Q, Q], [y_P, y_Q], color='gray', linestyle='-', alpha=0.5)\n",
        "    plt.plot([P, P], [0, y_P], color='gray', linestyle='--', alpha=0.5)\n",
        "    plt.plot([Q, Q], [0, y_P], color='gray', linestyle='--', alpha=0.5)\n",
        "\n",
        "#Plotting the axis\n",
        "    plt.axvline(x=0, color='darkgray', linestyle='-')\n",
        "    #plt.annotate('', xy=(0, 99), xytext=(-0.5, 99), arrowprops=dict(arrowstyle='->'))\n",
        "    #plt.arrow(0, 0, 0, 100, width=.1, edgecolor='black',facecolor='black',linestyle='--',linewidth=0.1)\n",
        "\n",
        "    plt.axhline(y=0, color='darkgray', linestyle='-')\n",
        "    #plt.annotate('', xy=(4.5, 0), xytext=(4.5, 0), arrowprops=dict(arrowstyle='<-'))\n",
        "\n",
        "    plt.annotate('P', xy=(P, y_P), xytext=(P-0.05 , y_P + 3))\n",
        "    plt.annotate('Q', xy=(Q, y_Q), xytext=(Q - 0.05, y_Q + 3))\n",
        "\n",
        "    plt.annotate('a', xy=(P, 0), xytext=(P - 0.05, -5))\n",
        "    plt.annotate('x', xy=(Q, 0), xytext=(Q - 0.05, -5))\n",
        "\n",
        "    plt.annotate('g(a)', xy=(0, g(P)), xytext=(- 0.3, g(P)))\n",
        "    plt.annotate('g(x)', xy=(0, g(Q)), xytext=(- 0.3, g(Q)))\n",
        "\n",
        "    plt.annotate('x-a', xy=((P + Q)/2, y_P), xytext=((P + Q)/2, y_P - 5))\n",
        "    plt.annotate('g(x)-g(a)', xy=(Q, (y_P + y_Q)/2), xytext=(Q+0.1, (y_P + y_Q)/2))\n",
        "\n",
        "#----------------------------------------------------------------------------------------------------------\n",
        "\n",
        "    plt.xlabel('x')\n",
        "    plt.ylabel('y')\n",
        "    plt.title('Interactive Figure 2')\n",
        "    plt.legend()\n",
        "    plt.grid(False)\n",
        "\n",
        "# Remove the box around the plot\n",
        "    plt.axis()\n",
        "    plt.show()\n",
        "\n",
        "# Interact with the slider to update the plot\n",
        "interact_manual(secant_plot, Q=Q_slider)\n",
        "\n"
      ]
    },
    {
      "cell_type": "markdown",
      "id": "e287d939",
      "metadata": {
        "id": "e287d939"
      },
      "source": [
        "<font size=\"3\"><span style='color:green'> <b>Example.</b></span></font> Let's also look at this numerically:"
      ]
    },
    {
      "cell_type": "code",
      "execution_count": null,
      "id": "c7035875",
      "metadata": {
        "id": "c7035875",
        "outputId": "3d6e12a0-120c-4d39-9184-8deb112181e9"
      },
      "outputs": [
        {
          "name": "stdout",
          "output_type": "stream",
          "text": [
            "           x            Δx       f(x + Δx)    (f(x + Δx) - f(x))/(Δx)\n",
            "------------  ------------  --------------  -------------------------\n",
            "3.0000000000  1.0000000000  256.0000000000             175.0000000000\n",
            "3.0000000000  0.1000000000   92.3521000000             113.5210000000\n",
            "3.0000000000  0.0100000000   82.0854120100             108.5412010000\n",
            "3.0000000000  0.0010000000   81.1080540120             108.0540120010\n",
            "3.0000000000  0.0001000000   81.0108005400             108.0054001203\n",
            "3.0000000000  0.0000100000   81.0010800054             108.0005400013\n",
            "3.0000000000  0.0000010000   81.0001080001             108.0000540128\n"
          ]
        }
      ],
      "source": [
        "from tabulate import tabulate\n",
        "from IPython.display import display, Markdown, Latex\n",
        "\n",
        "def F(x):\n",
        "    return x**4\n",
        "\n",
        "x = 3\n",
        "num = 7\n",
        "delxs = [10**-h for h in range(0, num)]\n",
        "ys = [F(x + delx) for delx in delxs]\n",
        "ms = [(F(x + delx) - F(x))/delx for delx in delxs]\n",
        "\n",
        "xs = [x for a in range(0, num)]\n",
        "print(tabulate(np.transpose([xs, delxs, ys, ms]), headers=[\"x\", \"Δx\", \"f(x + Δx)\", \"(f(x + Δx) - f(x))/(Δx)\"], floatfmt=\".10f\"))\n"
      ]
    },
    {
      "cell_type": "markdown",
      "id": "e34e94e5",
      "metadata": {
        "id": "e34e94e5"
      },
      "source": [
        "<font size=\"3\"><span style='color:green'> <b>Question.</b></span></font> What does it appear that the slope of the secant line is approaching as $\\Delta x \\rightarrow 0$?"
      ]
    },
    {
      "cell_type": "markdown",
      "id": "d500ff89",
      "metadata": {
        "id": "d500ff89"
      },
      "source": [
        "We can compare our guess to the value of the derivative at $x=3$."
      ]
    },
    {
      "cell_type": "code",
      "execution_count": null,
      "id": "902710ce",
      "metadata": {
        "id": "902710ce",
        "outputId": "45a2108c-73c2-40b6-a4f8-18ff97bf9797"
      },
      "outputs": [
        {
          "name": "stdout",
          "output_type": "stream",
          "text": [
            "F_prime(3)= 108\n"
          ]
        }
      ],
      "source": [
        "# Define the symbolic variable and the function symbollically\n",
        "x_sym=sp.symbols('x')\n",
        "F_sym= x_sym**4\n",
        "P1=3\n",
        "#---------------------------------------------------------------------------------------------------------\n",
        "\n",
        "# Find the derivative symbollically\n",
        "F_prime_sym=sp.diff(F_sym,x_sym)\n",
        "\n",
        "# Converts the symbolic expression into a Python function (to evaluate it at a large number of points)\n",
        "F_prime=sp.lambdify(x_sym,F_prime_sym)\n",
        "\n",
        "#Calculate the slope of the tangent line at P\n",
        "F_prime=F_prime(P1)\n",
        "print('F_prime(3)=',F_prime)\n"
      ]
    },
    {
      "cell_type": "code",
      "execution_count": null,
      "id": "68a83bb3",
      "metadata": {
        "id": "68a83bb3"
      },
      "outputs": [],
      "source": []
    }
  ],
  "metadata": {
    "kernelspec": {
      "display_name": "Python 3 (ipykernel)",
      "language": "python",
      "name": "python3"
    },
    "language_info": {
      "codemirror_mode": {
        "name": "ipython",
        "version": 3
      },
      "file_extension": ".py",
      "mimetype": "text/x-python",
      "name": "python",
      "nbconvert_exporter": "python",
      "pygments_lexer": "ipython3",
      "version": "3.11.4"
    },
    "colab": {
      "provenance": [],
      "include_colab_link": true
    }
  },
  "nbformat": 4,
  "nbformat_minor": 5
}